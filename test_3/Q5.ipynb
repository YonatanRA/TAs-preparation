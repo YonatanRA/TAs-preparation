{
 "cells": [
  {
   "cell_type": "markdown",
   "metadata": {},
   "source": [
    "# Challenge 4\n",
    "\n",
    "One of the topics that will be taught in Ironhack's data analytics course is machine learning. In this challenge, you will showcase your knowledge in data cleaning, feature engineering, dimensionality reduction, model selection and evaluation, hyperparameter tuning, and any other techniques of machine learning you are familiar with. \n",
    "\n",
    "You will receive a dataset about home sale prices. The dataset is purposefully small and has a variety of variables so that training will not take long and you can focus on the machine learning workflow. Your task is to develop a machine learning model that predicts home sale prices based on the dataset.\n",
    "\n",
    "There isn't a *correct* solution to this challenge. All we would like to learn is your thinking process that demonstrates your knowledge, experience, and creativity in developing machine learning models. Therefore, in addition to developing the model and optimizing its performance, you should also elaborate your thinking process and justify your decisions thoughout the iterative problem-solving process.\n",
    "\n",
    "The suggested time to spend on this challenge is 60-90 minutes. If you don't have time to finish all the tasks you plan to do, simply document the to-dos at the end of your response.\n",
    "\n",
    "**Instructions:**\n",
    "\n",
    "* From the `data` directory contained in this exercise, load the [housing prices data set](http://localhost:8888/edit/exercises/data/housing_prices.csv) (`data/housing_prices.csv`) to Pandas.\n",
    "* Analyze and clean the data set. Determine which features you will select for modeling.\n",
    "* Train and cross validate several regression models, attempting to accurately predict the SalePrice target variable.\n",
    "* Evaluate all models and show comparison of performance metrics.\n",
    "* Conclude which model(s) work best.\n",
    "* Briefly describe what you would do in the next iteration to improve the prediction.\n",
    "\n",
    "**Deliverables Checklist:**\n",
    "\n",
    "* Python code.\n",
    "* Visualizations of the data, features, and/or model performance.\n",
    "* Your thinking process.\n",
    "* The features selected for machine learning.\n",
    "* The results (e.g., performance metrics) of your selected model(s)."
   ]
  },
  {
   "cell_type": "markdown",
   "metadata": {},
   "source": [
    "# Abstract\n",
    "\n",
    "The goal is to predict home sale prices. I'll use supervised learning. The problem is in fact a regression problem, but I want to use also classifiers, making binning of the prices. The label 0 is for prices between the minimum and percentile 25, label 1 for prices between percentile 25 and 50, between percentile 50 and 75 the label 2, and for the higher prices label 3.\n",
    "I'll test some classifiers and some regressors, do gridsearch and cross-validation of each model to observe which one is the better model for the problem. Also I'll make confusion matrix and some metrics for testing."
   ]
  },
  {
   "cell_type": "code",
   "execution_count": null,
   "metadata": {},
   "outputs": [],
   "source": []
  }
 ],
 "metadata": {
  "kernelspec": {
   "display_name": "Python 3",
   "language": "python",
   "name": "python3"
  },
  "language_info": {
   "codemirror_mode": {
    "name": "ipython",
    "version": 3
   },
   "file_extension": ".py",
   "mimetype": "text/x-python",
   "name": "python",
   "nbconvert_exporter": "python",
   "pygments_lexer": "ipython3",
   "version": "3.7.2"
  }
 },
 "nbformat": 4,
 "nbformat_minor": 2
}
