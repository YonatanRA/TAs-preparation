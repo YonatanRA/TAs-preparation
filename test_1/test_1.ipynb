{
 "cells": [
  {
   "cell_type": "markdown",
   "metadata": {},
   "source": [
    "# Data Extraction (CSS + REGEX)\n",
    "\n",
    "One of the core tasks fo any Data Analytics project is Data Mining. One of the useful tools that we teach at Ironhack is Web Scraping.\n",
    "\n",
    "In this part you can find 3 different tasks, which will evaluate your skills in CSS3 selectors and regular expressions knowledge, which are essential to data extraction processes. We believe that even if you do not have previous knowledge of CSS, HTML and REGEX, you should be able to complete this task in less than a hour. There are many tutorials and informations on how to use CSS3 selectors and regular expressions to extract data. Do not be afraid to google it! This task is also a evaluation of your learning capabilities.\n",
    "\n",
    "The normal questions already have some examples and can be solved only by filling the CSS3 selectors or the regular expressions in the given space. You can check if you have the correct results by running the pre-made script after it. However, if you feel comfortable, you can use another python package and rewrite the script in a similar way to extract the data.\n",
    "\n",
    "For the extra challenges, you'll need to construct the scripts from scratch."
   ]
  },
  {
   "cell_type": "markdown",
   "metadata": {},
   "source": [
    "(1) For the following task, use the listing.html file, which represents a listings for a property. Open the HTML file on your browser, investigate it with the Inspect tool, view the source code and explore it. After that, fill the CSS3 selectors in the following script to extract the following information about this property:\n",
    "\n",
    "   * Number of bathrooms\n",
    "   * Number of bedrooms\n",
    "   * Living Area\n",
    "   * Energy Rating\n",
    "   * Description\n",
    "   * Agent Name\n",
    "   * Extract the location of the property\n",
    "\n"
   ]
  },
  {
   "cell_type": "code",
   "execution_count": null,
   "metadata": {},
   "outputs": [],
   "source": [
    "!pip install lxml\n",
    "!pip install cssselect"
   ]
  },
  {
   "cell_type": "code",
   "execution_count": null,
   "metadata": {},
   "outputs": [],
   "source": [
    "# EXAMPLE SELECTOR TO EXTRACT THE PROPERTY TYPE\n",
    "Selector_Example = \"h1.lbl_titulo\""
   ]
  },
  {
   "cell_type": "code",
   "execution_count": null,
   "metadata": {},
   "outputs": [],
   "source": [
    "tree.cssselect()"
   ]
  },
  {
   "cell_type": "code",
   "execution_count": null,
   "metadata": {},
   "outputs": [],
   "source": [
    "# EXAMPLE CODE, RUN TO CHECK THE EXAMPLE SELECTOR \n",
    "\n",
    "from lxml import html, etree\n",
    "\n",
    "with open(r'listing.html', \"r\") as f:\n",
    "    page = f.read()\n",
    "tree = html.fromstring(page)\n",
    "\n",
    "print('Example -> Property type: {}'.format(tree.cssselect(Selector_Example)[0].text))"
   ]
  },
  {
   "cell_type": "markdown",
   "metadata": {},
   "source": [
    "Now that you understand the example, just fill the CSS selectors here and check it by running the below cells:"
   ]
  },
  {
   "cell_type": "code",
   "execution_count": null,
   "metadata": {},
   "outputs": [],
   "source": [
    "############## Q1 ANSWERS ##################\n",
    "Selector_1 = \"WRITE SELECTOR HERE\"\n",
    "Selector_2 = \"WRITE SELECTOR HERE\"\n",
    "Selector_3 = \"WRITE SELECTOR HERE\"\n",
    "Selector_4 = \"WRITE SELECTOR HERE\"\n",
    "Selector_5 = \"WRITE SELECTOR HERE\"\n",
    "Selector_6 = \"WRITE SELECTOR HERE\"\n",
    "Selector_7 = \"WRITE SELECTOR HERE\""
   ]
  },
  {
   "cell_type": "code",
   "execution_count": null,
   "metadata": {},
   "outputs": [],
   "source": [
    "############### RUN TO CHECK YOUR ANSWERS ##################\n",
    "print('Bathrooms: {}'.format(tree.cssselect(Selector_1)[0].text))\n",
    "print('')\n",
    "print('Bedrooms: {}'.format(tree.cssselect(Selector_2)[0].text))\n",
    "print('')\n",
    "print('Total area: {}'.format(tree.cssselect(Selector_3)[0].text))\n",
    "print('')\n",
    "print('Living area: {}'.format(tree.cssselect(Selector_4)[0].text))\n",
    "print('')\n",
    "print('Description: {}'.format(tree.cssselect(Selector_5)[0].text))\n",
    "print('')\n",
    "print('Agent name: {}'.format(tree.cssselect(Selector_6)[0].text))\n",
    "print('')\n",
    "print('Location: {}'.format(tree.cssselect(Selector_7)[0].text))"
   ]
  },
  {
   "cell_type": "markdown",
   "metadata": {},
   "source": [
    "**Extra Challenge:**\n",
    "\n",
    "Write from scratch a script to extract and print:\n",
    "\n",
    "   * One link that leads to http://mydomain.com/link-to-image\n",
    "   * Extract all the features of the property\n",
    "\n"
   ]
  },
  {
   "cell_type": "code",
   "execution_count": 1,
   "metadata": {},
   "outputs": [],
   "source": [
    "############### WRITE THE SCRIPT TO SOLVE THE EXTRA CHALLENGE HERE ##################"
   ]
  },
  {
   "cell_type": "code",
   "execution_count": null,
   "metadata": {},
   "outputs": [],
   "source": []
  },
  {
   "cell_type": "code",
   "execution_count": null,
   "metadata": {},
   "outputs": [],
   "source": []
  }
 ],
 "metadata": {
  "kernelspec": {
   "display_name": "Python 3",
   "language": "python",
   "name": "python3"
  },
  "language_info": {
   "codemirror_mode": {
    "name": "ipython",
    "version": 3
   },
   "file_extension": ".py",
   "mimetype": "text/x-python",
   "name": "python",
   "nbconvert_exporter": "python",
   "pygments_lexer": "ipython3",
   "version": "3.7.2"
  }
 },
 "nbformat": 4,
 "nbformat_minor": 2
}
