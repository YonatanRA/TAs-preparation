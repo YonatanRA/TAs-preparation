{
 "cells": [
  {
   "cell_type": "markdown",
   "metadata": {},
   "source": [
    "## Challenge 1\n",
    "\n",
    "The Ironhack Student Outcomes Manager is reviewing the alumni employment data of the past cohorts. Among those alumni, **60%** are from the WebDev cohort, while **40%** are from the UX/UI Design cohort. Alumni from both cohorts graduated at the same time. The data indicate that **90%** of the WebDev alumni found employment in the IT industry within 6 months after graduation, whereas **40%** of the UX/UI alumni found employment in the IT industry within 6 months after graduation.\n",
    "\n",
    "6 months after those alumni graduated, some of them who were employed in the IT industry were randomly invited back to present to the current Ironhack students. Among the alumni who came back, **what is the probability that s/he was in the UX/UI cohort?** Provide your answer with formulas/explanations below:"
   ]
  },
  {
   "cell_type": "code",
   "execution_count": null,
   "metadata": {},
   "outputs": [],
   "source": [
    "# your answer here \n"
   ]
  }
 ],
 "metadata": {
  "kernelspec": {
   "display_name": "Python 3",
   "language": "python",
   "name": "python3"
  },
  "language_info": {
   "codemirror_mode": {
    "name": "ipython",
    "version": 3
   },
   "file_extension": ".py",
   "mimetype": "text/x-python",
   "name": "python",
   "nbconvert_exporter": "python",
   "pygments_lexer": "ipython3",
   "version": "3.7.2"
  }
 },
 "nbformat": 4,
 "nbformat_minor": 2
}
