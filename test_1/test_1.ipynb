{
 "cells": [
  {
   "cell_type": "markdown",
   "metadata": {},
   "source": [
    "# Data Extraction (CSS + REGEX)\n",
    "\n",
    "One of the core tasks fo any Data Analytics project is Data Mining. One of the useful tools that we teach at Ironhack is Web Scraping.\n",
    "\n",
    "In this part you can find 3 different tasks, which will evaluate your skills in CSS3 selectors and regular expressions knowledge, which are essential to data extraction processes. We believe that even if you do not have previous knowledge of CSS, HTML and REGEX, you should be able to complete this task in less than a hour. There are many tutorials and informations on how to use CSS3 selectors and regular expressions to extract data. Do not be afraid to google it! This task is also a evaluation of your learning capabilities.\n",
    "\n",
    "The normal questions already have some examples and can be solved only by filling the CSS3 selectors or the regular expressions in the given space. You can check if you have the correct results by running the pre-made script after it. However, if you feel comfortable, you can use another python package and rewrite the script in a similar way to extract the data.\n",
    "\n",
    "For the extra challenges, you'll need to construct the scripts from scratch."
   ]
  },
  {
   "cell_type": "markdown",
   "metadata": {},
   "source": [
    "(1) For the following task, use the listing.html file, which represents a listings for a property. Open the HTML file on your browser, investigate it with the Inspect tool, view the source code and explore it. After that, fill the CSS3 selectors in the following script to extract the following information about this property:\n",
    "\n",
    "   * Number of bathrooms\n",
    "   * Number of bedrooms\n",
    "   * Living Area\n",
    "   * Energy Rating\n",
    "   * Description\n",
    "   * Agent Name\n",
    "   * Extract the location of the property\n",
    "\n"
   ]
  },
  {
   "cell_type": "code",
   "execution_count": 1,
   "metadata": {},
   "outputs": [
    {
     "name": "stdout",
     "output_type": "stream",
     "text": [
      "Requirement already satisfied: lxml in c:\\users\\gralg\\appdata\\roaming\\python\\python37\\site-packages (4.4.1)\n",
      "Requirement already satisfied: cssselect in c:\\users\\gralg\\appdata\\roaming\\python\\python37\\site-packages (1.1.0)\n"
     ]
    }
   ],
   "source": [
    "!pip install lxml --user \n",
    "!pip install cssselect --user"
   ]
  },
  {
   "cell_type": "code",
   "execution_count": 2,
   "metadata": {},
   "outputs": [],
   "source": [
    "import lxml\n",
    "import cssselect"
   ]
  },
  {
   "cell_type": "code",
   "execution_count": 3,
   "metadata": {},
   "outputs": [],
   "source": [
    "# EXAMPLE SELECTOR TO EXTRACT THE PROPERTY TYPE\n",
    "Selector_Example = \"h1.lbl_titulo\""
   ]
  },
  {
   "cell_type": "code",
   "execution_count": 4,
   "metadata": {},
   "outputs": [
    {
     "name": "stdout",
     "output_type": "stream",
     "text": [
      "Example -> Property type: 3 Bedroom House\n"
     ]
    }
   ],
   "source": [
    "# EXAMPLE CODE, RUN TO CHECK THE EXAMPLE SELECTOR \n",
    "\n",
    "from lxml import html, etree\n",
    "\n",
    "with open(r'listing.html', \"r\") as f:\n",
    "    page = f.read()\n",
    "tree = html.fromstring(page)\n",
    "\n",
    "print('Example -> Property type: {}'.format(tree.cssselect(Selector_Example)[0].text))"
   ]
  },
  {
   "cell_type": "markdown",
   "metadata": {},
   "source": [
    "Now that you understand the example, just fill the CSS selectors here and check it by running the below cells:"
   ]
  },
  {
   "cell_type": "code",
   "execution_count": 5,
   "metadata": {},
   "outputs": [],
   "source": [
    "############## Q1 ANSWERS ##################\n",
    "Selector_1 = \".bloco-dados > li:nth-child(4) > span:nth-child(2)\"\n",
    "Selector_2 = \".bloco-dados > li:nth-child(5) > span:nth-child(2)\"\n",
    "Selector_3 = \".bloco-dados > li:nth-child(3) > span:nth-child(2)\"\n",
    "Selector_4 = \".bloco-dados > li:nth-child(2) > span:nth-child(2)\"\n",
    "Selector_5 = \".bloco-imovel-texto > p:nth-child(2)\"\n",
    "Selector_6 = \"div.lbl_titulo\"\n",
    "Selector_7 = \"#Cpl_lbl_morada\"\n",
    "\n"
   ]
  },
  {
   "cell_type": "code",
   "execution_count": 6,
   "metadata": {},
   "outputs": [
    {
     "name": "stdout",
     "output_type": "stream",
     "text": [
      "Bathrooms:  1 \n",
      "\n",
      "Bedrooms:  2 \n",
      "\n",
      "Total area:  0 m\n",
      "\n",
      "Living area:  80 m\n",
      "\n",
      "Description: At vero eos et accusamus et iusto odio dignissimos ducimus qui blanditiis praesentium voluptatum deleniti atque corrupti quos dolores et quas molestias excepturi sint occaecati cupiditate non provident, similique sunt in culpa qui officia deserunt mollitia animi, id est laborum et dolorum fugaEt harum quidem rerum facilis est et expedita distinctio.Nam libero tempore, cum soluta nobis est eligendi optio cumque nihil impedit quo minus id quod maxime placeat facere possimus, omnis voluptas assumenda est, omnis dolor repellendus.\n",
      "\n",
      "Agent name: Agent John Doe\n",
      "\n",
      "Location: Portugal, Lisboa, Estrela, Lapa\n"
     ]
    }
   ],
   "source": [
    "############### RUN TO CHECK YOUR ANSWERS ##################\n",
    "print('Bathrooms: {}'.format(tree.cssselect(Selector_1)[0].text))\n",
    "print('')\n",
    "print('Bedrooms: {}'.format(tree.cssselect(Selector_2)[0].text))\n",
    "print('')\n",
    "print('Total area: {}'.format(tree.cssselect(Selector_3)[0].text))\n",
    "print('')\n",
    "print('Living area: {}'.format(tree.cssselect(Selector_4)[0].text))\n",
    "print('')\n",
    "print('Description: {}'.format(tree.cssselect(Selector_5)[0].text))\n",
    "print('')\n",
    "print('Agent name: {}'.format(tree.cssselect(Selector_6)[0].text))\n",
    "print('')\n",
    "print('Location: {}'.format(tree.cssselect(Selector_7)[0].text))"
   ]
  },
  {
   "cell_type": "markdown",
   "metadata": {},
   "source": [
    "**Extra Challenge:**\n",
    "\n",
    "Write from scratch a script to extract and print:\n",
    "\n",
    "   * One link that leads to http://mydomain.com/link-to-image\n",
    "   * Extract all the features of the property\n",
    "\n"
   ]
  },
  {
   "cell_type": "code",
   "execution_count": 7,
   "metadata": {},
   "outputs": [],
   "source": [
    "############### WRITE THE SCRIPT TO SOLVE THE EXTRA CHALLENGE HERE ##################\n",
    "link_to_image = '.col-lg-4 > a:nth-child(1)'\n",
    "#print('link_to_image: {}'.format(tree.cssselect(link_to_image).text))\n",
    "m = tree.cssselect(link_to_image)"
   ]
  },
  {
   "cell_type": "code",
   "execution_count": 8,
   "metadata": {},
   "outputs": [
    {
     "data": {
      "text/plain": [
       "'http://mydomain.com/link-to-image'"
      ]
     },
     "execution_count": 8,
     "metadata": {},
     "output_type": "execute_result"
    }
   ],
   "source": [
    "m[0].get('href')"
   ]
  },
  {
   "cell_type": "code",
   "execution_count": 9,
   "metadata": {},
   "outputs": [
    {
     "name": "stdout",
     "output_type": "stream",
     "text": [
      "The features of the house are: Garden\n",
      "The features of the house are: Gas Heating\n",
      "The features of the house are: 2 garages\n",
      "The features of the house are: Large pool\n"
     ]
    }
   ],
   "source": [
    "for i in range(1,5):\n",
    "    f = tree.cssselect(f'.modulo-caracteristicas-conteudo > li:nth-child({i}) > span:nth-child(1)')\n",
    "    print(f'The features of the house are: {f[0].text}')"
   ]
  },
  {
   "cell_type": "code",
   "execution_count": 10,
   "metadata": {},
   "outputs": [],
   "source": [
    "l_features = [tree.cssselect(f'.modulo-caracteristicas-conteudo > li:nth-child({i}) > span:nth-child(1)') for i in range(1,5)]"
   ]
  },
  {
   "cell_type": "code",
   "execution_count": 11,
   "metadata": {},
   "outputs": [
    {
     "name": "stdout",
     "output_type": "stream",
     "text": [
      "Garden\n",
      "Gas Heating\n",
      "2 garages\n",
      "Large pool\n"
     ]
    }
   ],
   "source": [
    "for i in l_features:\n",
    "    print(i[0].text)"
   ]
  },
  {
   "cell_type": "markdown",
   "metadata": {},
   "source": [
    "(2) In the second part you will still have to use the html file. However, this time, you should use regular expressions to extract the following data from the webpage:\n",
    "\n",
    "   * Urls that are links to listings (i.e.: http://mydomain.com/link-to-listing). Do not use the whole url itself in regular expression. It should select only 3 links.\n",
    "   * The agent telephone number\n",
    "   * The property price\n",
    "\n"
   ]
  },
  {
   "cell_type": "code",
   "execution_count": 12,
   "metadata": {},
   "outputs": [],
   "source": [
    "import pandas as pd"
   ]
  },
  {
   "cell_type": "code",
   "execution_count": 13,
   "metadata": {},
   "outputs": [],
   "source": [
    "# REGEXP EXAMPLE TO EXTRACT THE AGENT EMAIL\n",
    "Regexp_Example = r\"\\\">(.*?@.*?)<\""
   ]
  },
  {
   "cell_type": "code",
   "execution_count": 14,
   "metadata": {},
   "outputs": [
    {
     "name": "stdout",
     "output_type": "stream",
     "text": [
      "Email extracted: ['casa@casa.pt']\n"
     ]
    }
   ],
   "source": [
    "# RUN TO CHECK THE EXAMPLE RESULTS\n",
    "import re\n",
    "\n",
    "with open(r'listing.html', \"r\", encoding = 'utf-8') as f:\n",
    "    page = f.read()\n",
    "\n",
    "print(\"Email extracted: {}\".format(re.findall(Regexp_Example, page)))"
   ]
  },
  {
   "cell_type": "code",
   "execution_count": 15,
   "metadata": {},
   "outputs": [],
   "source": [
    "# WRITE YOUR REGULAR EXPRESSIONS HERE\n",
    "Regexp_1 = r\"http://\\w*.\\w*/[-\\w]*\"\n",
    "Regexp_2 = r\"(\\d{4}-\\d{4})\"\n",
    "Regexp_3 = r\"\\\">(.*€)<\""
   ]
  },
  {
   "cell_type": "code",
   "execution_count": 16,
   "metadata": {},
   "outputs": [],
   "source": [
    "rex_3 = re.findall(r\"\\\">(.*€)<\", page)"
   ]
  },
  {
   "cell_type": "code",
   "execution_count": 17,
   "metadata": {},
   "outputs": [
    {
     "data": {
      "text/plain": [
       "['1.500.000 €']"
      ]
     },
     "execution_count": 17,
     "metadata": {},
     "output_type": "execute_result"
    }
   ],
   "source": [
    "rex_3"
   ]
  },
  {
   "cell_type": "code",
   "execution_count": 18,
   "metadata": {},
   "outputs": [
    {
     "name": "stdout",
     "output_type": "stream",
     "text": [
      "Links extrated:\n",
      "http://mydomain.com/link-to-image\n",
      "http://mydomain.com/link-to-listing\n",
      "http://mydomain.com/link-to-listing\n",
      "http://mydomain.com/link-to-listing\n",
      "\n",
      "Agent Phone Number: 0800-1111\n",
      "\n",
      "Property price: ['1.500.000 €']\n"
     ]
    }
   ],
   "source": [
    "############### RUN TO CHECK YOUR ANSWERS ##################\n",
    "print('Links extrated:')\n",
    "for w in re.findall(Regexp_1, page):\n",
    "    print(w)\n",
    "print('')\n",
    "print(\"Agent Phone Number: {}\".format(re.findall(Regexp_2, page)[0]))\n",
    "print('')\n",
    "print(\"Property price: {}\".format(re.findall(Regexp_3, page)))"
   ]
  },
  {
   "cell_type": "markdown",
   "metadata": {},
   "source": [
    "**Extra Challenge**\n",
    "\n",
    "   * Extract latitude and longitude value from html ()those values are in the html code, but are not shown on the page_)\n",
    "\n"
   ]
  },
  {
   "cell_type": "code",
   "execution_count": 19,
   "metadata": {},
   "outputs": [
    {
     "name": "stdout",
     "output_type": "stream",
     "text": [
      "The coordinates for the house: 36.5194999,-4.7743365\n"
     ]
    }
   ],
   "source": [
    "############### WRITE THE SCRIPT TO SOLVE THE EXTRA CHALLENGE HERE ##################\n",
    "regex_long_latitude = r'\\d+\\.\\d+\\,\\-\\d+\\.\\d+'\n",
    "long_latitude = re.findall(regex_long_latitude, page)\n",
    "print(f'The coordinates for the house: {long_latitude[0]}')"
   ]
  },
  {
   "cell_type": "code",
   "execution_count": 20,
   "metadata": {},
   "outputs": [],
   "source": [
    "import pandas as pd\n",
    "import seaborn as sns\n",
    "import matplotlib as plt"
   ]
  },
  {
   "cell_type": "markdown",
   "metadata": {},
   "source": [
    "# Data Analysis\n",
    "\n",
    "**Task:**\n",
    "\n",
    "   1.Describe clients of the bank.\n",
    "   \n",
    "   2.Compose a model to predict the revenue from marketing campaigns per client.\n",
    "\n",
    "**Data:**\n",
    "\n",
    "For the analysis, several tables are available:\n",
    "\n",
    "   * Social-demographical data (age, gender, tenure in a bank)\n",
    "   * Products owned + actual volumes (current account, saving account, mutual funds, overdraft, credit card, consumer loan)\n",
    "   * Inflow/outflow on C/A, aggregated card turnover (monthly average over the past 3 months)\n",
    "   * For 60 % of clients actual sales + revenues from these are available\n",
    "\n",
    "**Proposed steps:**\n",
    "\n",
    "   * Check for errors and outliers in data. Apply some steps to fix errors.\n",
    "   * Study the difference between clients of bank.\n",
    "   * Analyze 3 groups separately (consumer loan, credit card, mutual fund)\n",
    "\n",
    "**Expected result:**\n",
    "\n",
    "   * Descriptive analysis with plots and tables. (25%)\n",
    "   * Exploratory analysis with discussion of patterns found. (35%)\n",
    "   * Revenue prediction model. (30%)\n",
    "   * Polite coding and description of steps. (10%)\n"
   ]
  },
  {
   "cell_type": "markdown",
   "metadata": {},
   "source": [
    "## Task\n",
    "**Import libraries**"
   ]
  },
  {
   "cell_type": "code",
   "execution_count": 1,
   "metadata": {},
   "outputs": [],
   "source": [
    "import pandas as pd\n",
    "import numpy as np\n",
    "import seaborn as sns\n",
    "import matplotlib.pyplot as plt\n",
    "import random"
   ]
  },
  {
   "cell_type": "code",
   "execution_count": 2,
   "metadata": {},
   "outputs": [
    {
     "data": {
      "text/plain": [
       "['Description',\n",
       " 'Soc_Dem',\n",
       " 'Products_ActBalance',\n",
       " 'Inflow_Outflow',\n",
       " 'Sales_Revenues']"
      ]
     },
     "execution_count": 2,
     "metadata": {},
     "output_type": "execute_result"
    }
   ],
   "source": [
    "#Load Data and getting info\n",
    "\n",
    "libro = pd.ExcelFile('data.xlsx')\n",
    "libro.sheet_names"
   ]
  },
  {
   "cell_type": "code",
   "execution_count": 3,
   "metadata": {},
   "outputs": [
    {
     "data": {
      "text/html": [
       "<div>\n",
       "<style scoped>\n",
       "    .dataframe tbody tr th:only-of-type {\n",
       "        vertical-align: middle;\n",
       "    }\n",
       "\n",
       "    .dataframe tbody tr th {\n",
       "        vertical-align: top;\n",
       "    }\n",
       "\n",
       "    .dataframe thead th {\n",
       "        text-align: right;\n",
       "    }\n",
       "</style>\n",
       "<table border=\"1\" class=\"dataframe\">\n",
       "  <thead>\n",
       "    <tr style=\"text-align: right;\">\n",
       "      <th></th>\n",
       "      <th>Sheet</th>\n",
       "      <th>Variable</th>\n",
       "      <th>Description</th>\n",
       "    </tr>\n",
       "  </thead>\n",
       "  <tbody>\n",
       "    <tr>\n",
       "      <td>0</td>\n",
       "      <td>Soc_Dem</td>\n",
       "      <td>Client</td>\n",
       "      <td>client ID</td>\n",
       "    </tr>\n",
       "    <tr>\n",
       "      <td>1</td>\n",
       "      <td>NaN</td>\n",
       "      <td>Sex</td>\n",
       "      <td>gender</td>\n",
       "    </tr>\n",
       "    <tr>\n",
       "      <td>2</td>\n",
       "      <td>NaN</td>\n",
       "      <td>Age</td>\n",
       "      <td>age [years]</td>\n",
       "    </tr>\n",
       "    <tr>\n",
       "      <td>3</td>\n",
       "      <td>NaN</td>\n",
       "      <td>Tenure</td>\n",
       "      <td>tenure with the bank [months]</td>\n",
       "    </tr>\n",
       "    <tr>\n",
       "      <td>4</td>\n",
       "      <td>Products_ActBalance</td>\n",
       "      <td>Client</td>\n",
       "      <td>client ID</td>\n",
       "    </tr>\n",
       "    <tr>\n",
       "      <td>5</td>\n",
       "      <td>NaN</td>\n",
       "      <td>Count_CA</td>\n",
       "      <td>number of live current accounts</td>\n",
       "    </tr>\n",
       "    <tr>\n",
       "      <td>6</td>\n",
       "      <td>NaN</td>\n",
       "      <td>Count_SA</td>\n",
       "      <td>number of live saving accounts</td>\n",
       "    </tr>\n",
       "    <tr>\n",
       "      <td>7</td>\n",
       "      <td>NaN</td>\n",
       "      <td>Count_MF</td>\n",
       "      <td>number of live mutual funds</td>\n",
       "    </tr>\n",
       "    <tr>\n",
       "      <td>8</td>\n",
       "      <td>NaN</td>\n",
       "      <td>Count_OVD</td>\n",
       "      <td>number of live overdrafts</td>\n",
       "    </tr>\n",
       "    <tr>\n",
       "      <td>9</td>\n",
       "      <td>NaN</td>\n",
       "      <td>Count_CC</td>\n",
       "      <td>number of live credit cards</td>\n",
       "    </tr>\n",
       "    <tr>\n",
       "      <td>10</td>\n",
       "      <td>NaN</td>\n",
       "      <td>Count_CL</td>\n",
       "      <td>number of live consumer loans</td>\n",
       "    </tr>\n",
       "    <tr>\n",
       "      <td>11</td>\n",
       "      <td>NaN</td>\n",
       "      <td>ActBal_CA</td>\n",
       "      <td>actual current accounts balance [EUR]</td>\n",
       "    </tr>\n",
       "    <tr>\n",
       "      <td>12</td>\n",
       "      <td>NaN</td>\n",
       "      <td>ActBal_SA</td>\n",
       "      <td>actual saving accounts balance [EUR]</td>\n",
       "    </tr>\n",
       "    <tr>\n",
       "      <td>13</td>\n",
       "      <td>NaN</td>\n",
       "      <td>ActBal_MF</td>\n",
       "      <td>actual mutual funds balance [EUR]</td>\n",
       "    </tr>\n",
       "    <tr>\n",
       "      <td>14</td>\n",
       "      <td>NaN</td>\n",
       "      <td>ActBal_OVD</td>\n",
       "      <td>actual overdrafts balance (liability) [EUR]</td>\n",
       "    </tr>\n",
       "    <tr>\n",
       "      <td>15</td>\n",
       "      <td>NaN</td>\n",
       "      <td>ActBal_CC</td>\n",
       "      <td>actual credit cards balance (liability) [EUR]</td>\n",
       "    </tr>\n",
       "    <tr>\n",
       "      <td>16</td>\n",
       "      <td>NaN</td>\n",
       "      <td>ActBal_CL</td>\n",
       "      <td>actual consumer loans balance (liability) [EUR]</td>\n",
       "    </tr>\n",
       "    <tr>\n",
       "      <td>17</td>\n",
       "      <td>Inflow_Outflow</td>\n",
       "      <td>Client</td>\n",
       "      <td>client ID</td>\n",
       "    </tr>\n",
       "    <tr>\n",
       "      <td>18</td>\n",
       "      <td>NaN</td>\n",
       "      <td>VolumeCred</td>\n",
       "      <td>monthly credit turnover [EUR]</td>\n",
       "    </tr>\n",
       "    <tr>\n",
       "      <td>19</td>\n",
       "      <td>NaN</td>\n",
       "      <td>VolumeCred_CA</td>\n",
       "      <td>monthly credit turnover on current accounts [EUR]</td>\n",
       "    </tr>\n",
       "    <tr>\n",
       "      <td>20</td>\n",
       "      <td>NaN</td>\n",
       "      <td>TransactionsCred</td>\n",
       "      <td>number of all credit transactions</td>\n",
       "    </tr>\n",
       "    <tr>\n",
       "      <td>21</td>\n",
       "      <td>NaN</td>\n",
       "      <td>TransactionsCred_CA</td>\n",
       "      <td>number of credit transactions on current accounts</td>\n",
       "    </tr>\n",
       "    <tr>\n",
       "      <td>22</td>\n",
       "      <td>NaN</td>\n",
       "      <td>VolumeDeb</td>\n",
       "      <td>monthly debit turnover [EUR]</td>\n",
       "    </tr>\n",
       "    <tr>\n",
       "      <td>23</td>\n",
       "      <td>NaN</td>\n",
       "      <td>VolumeDeb_CA</td>\n",
       "      <td>monthly debit turnover on current accounts [EUR]</td>\n",
       "    </tr>\n",
       "    <tr>\n",
       "      <td>24</td>\n",
       "      <td>NaN</td>\n",
       "      <td>VolumeDebCash_Card</td>\n",
       "      <td>monthly volume of debit cash transactions via ...</td>\n",
       "    </tr>\n",
       "    <tr>\n",
       "      <td>25</td>\n",
       "      <td>NaN</td>\n",
       "      <td>VolumeDebCashless_Card</td>\n",
       "      <td>monthly volume of debit cashless transactions ...</td>\n",
       "    </tr>\n",
       "    <tr>\n",
       "      <td>26</td>\n",
       "      <td>NaN</td>\n",
       "      <td>VolumeDeb_PaymentOrder</td>\n",
       "      <td>monthly volume of debit transactions via payme...</td>\n",
       "    </tr>\n",
       "    <tr>\n",
       "      <td>27</td>\n",
       "      <td>NaN</td>\n",
       "      <td>TransactionsDeb</td>\n",
       "      <td>number of all debit transactions</td>\n",
       "    </tr>\n",
       "    <tr>\n",
       "      <td>28</td>\n",
       "      <td>NaN</td>\n",
       "      <td>TransactionsDeb_CA</td>\n",
       "      <td>number of debit transactions on current accounts</td>\n",
       "    </tr>\n",
       "    <tr>\n",
       "      <td>29</td>\n",
       "      <td>NaN</td>\n",
       "      <td>TransactionsDebCash_Card</td>\n",
       "      <td>monthly number of debit cash transactions via ...</td>\n",
       "    </tr>\n",
       "    <tr>\n",
       "      <td>30</td>\n",
       "      <td>NaN</td>\n",
       "      <td>TransactionsDebCashless_Card</td>\n",
       "      <td>monthly number of debit cashless transactions ...</td>\n",
       "    </tr>\n",
       "    <tr>\n",
       "      <td>31</td>\n",
       "      <td>NaN</td>\n",
       "      <td>TransactionsDeb_PaymentOrder</td>\n",
       "      <td>monthly number of debit transactions via payme...</td>\n",
       "    </tr>\n",
       "    <tr>\n",
       "      <td>32</td>\n",
       "      <td>Sales_Revenues</td>\n",
       "      <td>Client</td>\n",
       "      <td>client ID</td>\n",
       "    </tr>\n",
       "    <tr>\n",
       "      <td>33</td>\n",
       "      <td>NaN</td>\n",
       "      <td>Sale_MF</td>\n",
       "      <td>target variable for sale of mutual fund (avail...</td>\n",
       "    </tr>\n",
       "    <tr>\n",
       "      <td>34</td>\n",
       "      <td>NaN</td>\n",
       "      <td>Sale_CC</td>\n",
       "      <td>target variable for sale of credit card (avail...</td>\n",
       "    </tr>\n",
       "    <tr>\n",
       "      <td>35</td>\n",
       "      <td>NaN</td>\n",
       "      <td>Sale_CL</td>\n",
       "      <td>target variable for sale of consumer loan (ava...</td>\n",
       "    </tr>\n",
       "    <tr>\n",
       "      <td>36</td>\n",
       "      <td>NaN</td>\n",
       "      <td>Revenue_MF</td>\n",
       "      <td>target variable for revenue from mutual fund (...</td>\n",
       "    </tr>\n",
       "    <tr>\n",
       "      <td>37</td>\n",
       "      <td>NaN</td>\n",
       "      <td>Revenue_CC</td>\n",
       "      <td>target variable for revenue from credit card (...</td>\n",
       "    </tr>\n",
       "    <tr>\n",
       "      <td>38</td>\n",
       "      <td>NaN</td>\n",
       "      <td>Revenue_CL</td>\n",
       "      <td>target variable for revenue from consumer loan...</td>\n",
       "    </tr>\n",
       "  </tbody>\n",
       "</table>\n",
       "</div>"
      ],
      "text/plain": [
       "                  Sheet                      Variable  \\\n",
       "0               Soc_Dem                        Client   \n",
       "1                   NaN                           Sex   \n",
       "2                   NaN                           Age   \n",
       "3                   NaN                        Tenure   \n",
       "4   Products_ActBalance                        Client   \n",
       "5                   NaN                      Count_CA   \n",
       "6                   NaN                      Count_SA   \n",
       "7                   NaN                      Count_MF   \n",
       "8                   NaN                     Count_OVD   \n",
       "9                   NaN                      Count_CC   \n",
       "10                  NaN                      Count_CL   \n",
       "11                  NaN                     ActBal_CA   \n",
       "12                  NaN                     ActBal_SA   \n",
       "13                  NaN                     ActBal_MF   \n",
       "14                  NaN                    ActBal_OVD   \n",
       "15                  NaN                     ActBal_CC   \n",
       "16                  NaN                     ActBal_CL   \n",
       "17       Inflow_Outflow                        Client   \n",
       "18                  NaN                    VolumeCred   \n",
       "19                  NaN                 VolumeCred_CA   \n",
       "20                  NaN              TransactionsCred   \n",
       "21                  NaN           TransactionsCred_CA   \n",
       "22                  NaN                     VolumeDeb   \n",
       "23                  NaN                  VolumeDeb_CA   \n",
       "24                  NaN            VolumeDebCash_Card   \n",
       "25                  NaN        VolumeDebCashless_Card   \n",
       "26                  NaN        VolumeDeb_PaymentOrder   \n",
       "27                  NaN               TransactionsDeb   \n",
       "28                  NaN            TransactionsDeb_CA   \n",
       "29                  NaN      TransactionsDebCash_Card   \n",
       "30                  NaN  TransactionsDebCashless_Card   \n",
       "31                  NaN  TransactionsDeb_PaymentOrder   \n",
       "32       Sales_Revenues                        Client   \n",
       "33                  NaN                       Sale_MF   \n",
       "34                  NaN                       Sale_CC   \n",
       "35                  NaN                       Sale_CL   \n",
       "36                  NaN                    Revenue_MF   \n",
       "37                  NaN                    Revenue_CC   \n",
       "38                  NaN                    Revenue_CL   \n",
       "\n",
       "                                          Description  \n",
       "0                                           client ID  \n",
       "1                                              gender  \n",
       "2                                         age [years]  \n",
       "3                       tenure with the bank [months]  \n",
       "4                                           client ID  \n",
       "5                     number of live current accounts  \n",
       "6                      number of live saving accounts  \n",
       "7                         number of live mutual funds  \n",
       "8                           number of live overdrafts  \n",
       "9                         number of live credit cards  \n",
       "10                      number of live consumer loans  \n",
       "11              actual current accounts balance [EUR]  \n",
       "12               actual saving accounts balance [EUR]  \n",
       "13                  actual mutual funds balance [EUR]  \n",
       "14        actual overdrafts balance (liability) [EUR]  \n",
       "15      actual credit cards balance (liability) [EUR]  \n",
       "16    actual consumer loans balance (liability) [EUR]  \n",
       "17                                          client ID  \n",
       "18                      monthly credit turnover [EUR]  \n",
       "19  monthly credit turnover on current accounts [EUR]  \n",
       "20                  number of all credit transactions  \n",
       "21  number of credit transactions on current accounts  \n",
       "22                       monthly debit turnover [EUR]  \n",
       "23   monthly debit turnover on current accounts [EUR]  \n",
       "24  monthly volume of debit cash transactions via ...  \n",
       "25  monthly volume of debit cashless transactions ...  \n",
       "26  monthly volume of debit transactions via payme...  \n",
       "27                   number of all debit transactions  \n",
       "28   number of debit transactions on current accounts  \n",
       "29  monthly number of debit cash transactions via ...  \n",
       "30  monthly number of debit cashless transactions ...  \n",
       "31  monthly number of debit transactions via payme...  \n",
       "32                                          client ID  \n",
       "33  target variable for sale of mutual fund (avail...  \n",
       "34  target variable for sale of credit card (avail...  \n",
       "35  target variable for sale of consumer loan (ava...  \n",
       "36  target variable for revenue from mutual fund (...  \n",
       "37  target variable for revenue from credit card (...  \n",
       "38  target variable for revenue from consumer loan...  "
      ]
     },
     "execution_count": 3,
     "metadata": {},
     "output_type": "execute_result"
    }
   ],
   "source": [
    "clients_desc = libro.parse('Description')\n",
    "clients_desc"
   ]
  },
  {
   "cell_type": "markdown",
   "metadata": {},
   "source": [
    "# *\n",
    "The first sheet tell us about the others; the name of the variables and what does it means each one.\n",
    "We began with the sheet that got the general information about the clients of the Bank and take a look and seek for missing values, values that doesn´t make sense, type of value that are correct, in a overall; clean the data."
   ]
  },
  {
   "cell_type": "code",
   "execution_count": 4,
   "metadata": {},
   "outputs": [
    {
     "data": {
      "text/html": [
       "<div>\n",
       "<style scoped>\n",
       "    .dataframe tbody tr th:only-of-type {\n",
       "        vertical-align: middle;\n",
       "    }\n",
       "\n",
       "    .dataframe tbody tr th {\n",
       "        vertical-align: top;\n",
       "    }\n",
       "\n",
       "    .dataframe thead th {\n",
       "        text-align: right;\n",
       "    }\n",
       "</style>\n",
       "<table border=\"1\" class=\"dataframe\">\n",
       "  <thead>\n",
       "    <tr style=\"text-align: right;\">\n",
       "      <th></th>\n",
       "      <th>Client</th>\n",
       "      <th>Sex</th>\n",
       "      <th>Age</th>\n",
       "      <th>Tenure</th>\n",
       "    </tr>\n",
       "  </thead>\n",
       "  <tbody>\n",
       "    <tr>\n",
       "      <td>0</td>\n",
       "      <td>909</td>\n",
       "      <td>M</td>\n",
       "      <td>21</td>\n",
       "      <td>27</td>\n",
       "    </tr>\n",
       "    <tr>\n",
       "      <td>1</td>\n",
       "      <td>1217</td>\n",
       "      <td>M</td>\n",
       "      <td>38</td>\n",
       "      <td>165</td>\n",
       "    </tr>\n",
       "    <tr>\n",
       "      <td>2</td>\n",
       "      <td>850</td>\n",
       "      <td>F</td>\n",
       "      <td>49</td>\n",
       "      <td>44</td>\n",
       "    </tr>\n",
       "    <tr>\n",
       "      <td>3</td>\n",
       "      <td>1473</td>\n",
       "      <td>M</td>\n",
       "      <td>54</td>\n",
       "      <td>34</td>\n",
       "    </tr>\n",
       "    <tr>\n",
       "      <td>4</td>\n",
       "      <td>1038</td>\n",
       "      <td>M</td>\n",
       "      <td>29</td>\n",
       "      <td>106</td>\n",
       "    </tr>\n",
       "    <tr>\n",
       "      <td>5</td>\n",
       "      <td>225</td>\n",
       "      <td>M</td>\n",
       "      <td>14</td>\n",
       "      <td>187</td>\n",
       "    </tr>\n",
       "    <tr>\n",
       "      <td>6</td>\n",
       "      <td>699</td>\n",
       "      <td>M</td>\n",
       "      <td>37</td>\n",
       "      <td>175</td>\n",
       "    </tr>\n",
       "    <tr>\n",
       "      <td>7</td>\n",
       "      <td>827</td>\n",
       "      <td>M</td>\n",
       "      <td>57</td>\n",
       "      <td>50</td>\n",
       "    </tr>\n",
       "    <tr>\n",
       "      <td>8</td>\n",
       "      <td>1231</td>\n",
       "      <td>F</td>\n",
       "      <td>6</td>\n",
       "      <td>232</td>\n",
       "    </tr>\n",
       "    <tr>\n",
       "      <td>9</td>\n",
       "      <td>528</td>\n",
       "      <td>F</td>\n",
       "      <td>19</td>\n",
       "      <td>70</td>\n",
       "    </tr>\n",
       "  </tbody>\n",
       "</table>\n",
       "</div>"
      ],
      "text/plain": [
       "   Client Sex  Age  Tenure\n",
       "0     909   M   21      27\n",
       "1    1217   M   38     165\n",
       "2     850   F   49      44\n",
       "3    1473   M   54      34\n",
       "4    1038   M   29     106\n",
       "5     225   M   14     187\n",
       "6     699   M   37     175\n",
       "7     827   M   57      50\n",
       "8    1231   F    6     232\n",
       "9     528   F   19      70"
      ]
     },
     "execution_count": 4,
     "metadata": {},
     "output_type": "execute_result"
    }
   ],
   "source": [
    "#Asign the sheet Soc_Dem\n",
    "clients_df = libro.parse('Soc_Dem')\n",
    "clients_df.head(10)"
   ]
  },
  {
   "cell_type": "markdown",
   "metadata": {},
   "source": [
    "Looking for missing Values"
   ]
  },
  {
   "cell_type": "code",
   "execution_count": 5,
   "metadata": {},
   "outputs": [
    {
     "data": {
      "text/plain": [
       "Client    0\n",
       "Sex       3\n",
       "Age       0\n",
       "Tenure    0\n",
       "dtype: int64"
      ]
     },
     "execution_count": 5,
     "metadata": {},
     "output_type": "execute_result"
    }
   ],
   "source": [
    "clients_df.isna().sum()"
   ]
  },
  {
   "cell_type": "markdown",
   "metadata": {},
   "source": [
    "In this case 3 records have no Age but we can assume that are records that had been capture wrong because they have Age and a tenure with the bank we fill them with either with 'M' or 'F' "
   ]
  },
  {
   "cell_type": "code",
   "execution_count": 6,
   "metadata": {},
   "outputs": [
    {
     "name": "stderr",
     "output_type": "stream",
     "text": [
      "C:\\Users\\GralG\\AppData\\Roaming\\Python\\Python37\\site-packages\\pandas\\core\\indexing.py:205: SettingWithCopyWarning: \n",
      "A value is trying to be set on a copy of a slice from a DataFrame\n",
      "\n",
      "See the caveats in the documentation: http://pandas.pydata.org/pandas-docs/stable/user_guide/indexing.html#returning-a-view-versus-a-copy\n",
      "  self._setitem_with_indexer(indexer, value)\n"
     ]
    }
   ],
   "source": [
    "clients_df['Sex'].loc[list(clients_df[clients_df.Sex.isna()].index)] = random.choice(['M','F'])"
   ]
  },
  {
   "cell_type": "code",
   "execution_count": 7,
   "metadata": {},
   "outputs": [],
   "source": [
    "#Ejemplo de drop\n",
    "#clients_df.drop(clients_df.index[3],axis= 0,inplace= True)"
   ]
  },
  {
   "cell_type": "code",
   "execution_count": 8,
   "metadata": {},
   "outputs": [
    {
     "data": {
      "text/html": [
       "<div>\n",
       "<style scoped>\n",
       "    .dataframe tbody tr th:only-of-type {\n",
       "        vertical-align: middle;\n",
       "    }\n",
       "\n",
       "    .dataframe tbody tr th {\n",
       "        vertical-align: top;\n",
       "    }\n",
       "\n",
       "    .dataframe thead th {\n",
       "        text-align: right;\n",
       "    }\n",
       "</style>\n",
       "<table border=\"1\" class=\"dataframe\">\n",
       "  <thead>\n",
       "    <tr style=\"text-align: right;\">\n",
       "      <th></th>\n",
       "      <th>Client</th>\n",
       "      <th>Sex</th>\n",
       "      <th>Age</th>\n",
       "      <th>Tenure</th>\n",
       "    </tr>\n",
       "  </thead>\n",
       "  <tbody>\n",
       "    <tr>\n",
       "      <td>0</td>\n",
       "      <td>909</td>\n",
       "      <td>M</td>\n",
       "      <td>21</td>\n",
       "      <td>27</td>\n",
       "    </tr>\n",
       "    <tr>\n",
       "      <td>1</td>\n",
       "      <td>1217</td>\n",
       "      <td>M</td>\n",
       "      <td>38</td>\n",
       "      <td>165</td>\n",
       "    </tr>\n",
       "    <tr>\n",
       "      <td>2</td>\n",
       "      <td>850</td>\n",
       "      <td>F</td>\n",
       "      <td>49</td>\n",
       "      <td>44</td>\n",
       "    </tr>\n",
       "    <tr>\n",
       "      <td>3</td>\n",
       "      <td>1473</td>\n",
       "      <td>M</td>\n",
       "      <td>54</td>\n",
       "      <td>34</td>\n",
       "    </tr>\n",
       "    <tr>\n",
       "      <td>4</td>\n",
       "      <td>1038</td>\n",
       "      <td>M</td>\n",
       "      <td>29</td>\n",
       "      <td>106</td>\n",
       "    </tr>\n",
       "    <tr>\n",
       "      <td>...</td>\n",
       "      <td>...</td>\n",
       "      <td>...</td>\n",
       "      <td>...</td>\n",
       "      <td>...</td>\n",
       "    </tr>\n",
       "    <tr>\n",
       "      <td>1610</td>\n",
       "      <td>409</td>\n",
       "      <td>M</td>\n",
       "      <td>31</td>\n",
       "      <td>91</td>\n",
       "    </tr>\n",
       "    <tr>\n",
       "      <td>1611</td>\n",
       "      <td>384</td>\n",
       "      <td>M</td>\n",
       "      <td>23</td>\n",
       "      <td>160</td>\n",
       "    </tr>\n",
       "    <tr>\n",
       "      <td>1612</td>\n",
       "      <td>977</td>\n",
       "      <td>M</td>\n",
       "      <td>46</td>\n",
       "      <td>59</td>\n",
       "    </tr>\n",
       "    <tr>\n",
       "      <td>1613</td>\n",
       "      <td>629</td>\n",
       "      <td>F</td>\n",
       "      <td>61</td>\n",
       "      <td>173</td>\n",
       "    </tr>\n",
       "    <tr>\n",
       "      <td>1614</td>\n",
       "      <td>1466</td>\n",
       "      <td>M</td>\n",
       "      <td>63</td>\n",
       "      <td>97</td>\n",
       "    </tr>\n",
       "  </tbody>\n",
       "</table>\n",
       "<p>1615 rows × 4 columns</p>\n",
       "</div>"
      ],
      "text/plain": [
       "      Client Sex  Age  Tenure\n",
       "0        909   M   21      27\n",
       "1       1217   M   38     165\n",
       "2        850   F   49      44\n",
       "3       1473   M   54      34\n",
       "4       1038   M   29     106\n",
       "...      ...  ..  ...     ...\n",
       "1610     409   M   31      91\n",
       "1611     384   M   23     160\n",
       "1612     977   M   46      59\n",
       "1613     629   F   61     173\n",
       "1614    1466   M   63      97\n",
       "\n",
       "[1615 rows x 4 columns]"
      ]
     },
     "execution_count": 8,
     "metadata": {},
     "output_type": "execute_result"
    }
   ],
   "source": [
    "clients_df"
   ]
  },
  {
   "cell_type": "markdown",
   "metadata": {},
   "source": [
    "We got Values that doesn´t make sense. Like A female with 6 years old and got a Tenure of 232 months with the bank, we can expect that are values like this, we can drop them out or correct them.\n",
    "The same with the missing Values.\n"
   ]
  },
  {
   "cell_type": "code",
   "execution_count": 9,
   "metadata": {},
   "outputs": [
    {
     "data": {
      "text/html": [
       "<div>\n",
       "<style scoped>\n",
       "    .dataframe tbody tr th:only-of-type {\n",
       "        vertical-align: middle;\n",
       "    }\n",
       "\n",
       "    .dataframe tbody tr th {\n",
       "        vertical-align: top;\n",
       "    }\n",
       "\n",
       "    .dataframe thead th {\n",
       "        text-align: right;\n",
       "    }\n",
       "</style>\n",
       "<table border=\"1\" class=\"dataframe\">\n",
       "  <thead>\n",
       "    <tr style=\"text-align: right;\">\n",
       "      <th></th>\n",
       "      <th>Client</th>\n",
       "      <th>Sex</th>\n",
       "      <th>Age</th>\n",
       "      <th>Tenure</th>\n",
       "    </tr>\n",
       "  </thead>\n",
       "  <tbody>\n",
       "    <tr>\n",
       "      <td>5</td>\n",
       "      <td>225</td>\n",
       "      <td>M</td>\n",
       "      <td>14</td>\n",
       "      <td>187</td>\n",
       "    </tr>\n",
       "    <tr>\n",
       "      <td>8</td>\n",
       "      <td>1231</td>\n",
       "      <td>F</td>\n",
       "      <td>6</td>\n",
       "      <td>232</td>\n",
       "    </tr>\n",
       "    <tr>\n",
       "      <td>18</td>\n",
       "      <td>316</td>\n",
       "      <td>F</td>\n",
       "      <td>1</td>\n",
       "      <td>211</td>\n",
       "    </tr>\n",
       "    <tr>\n",
       "      <td>19</td>\n",
       "      <td>461</td>\n",
       "      <td>F</td>\n",
       "      <td>17</td>\n",
       "      <td>64</td>\n",
       "    </tr>\n",
       "    <tr>\n",
       "      <td>31</td>\n",
       "      <td>729</td>\n",
       "      <td>M</td>\n",
       "      <td>17</td>\n",
       "      <td>85</td>\n",
       "    </tr>\n",
       "    <tr>\n",
       "      <td>...</td>\n",
       "      <td>...</td>\n",
       "      <td>...</td>\n",
       "      <td>...</td>\n",
       "      <td>...</td>\n",
       "    </tr>\n",
       "    <tr>\n",
       "      <td>1470</td>\n",
       "      <td>1044</td>\n",
       "      <td>F</td>\n",
       "      <td>2</td>\n",
       "      <td>70</td>\n",
       "    </tr>\n",
       "    <tr>\n",
       "      <td>1502</td>\n",
       "      <td>80</td>\n",
       "      <td>M</td>\n",
       "      <td>9</td>\n",
       "      <td>81</td>\n",
       "    </tr>\n",
       "    <tr>\n",
       "      <td>1505</td>\n",
       "      <td>300</td>\n",
       "      <td>F</td>\n",
       "      <td>5</td>\n",
       "      <td>87</td>\n",
       "    </tr>\n",
       "    <tr>\n",
       "      <td>1554</td>\n",
       "      <td>648</td>\n",
       "      <td>F</td>\n",
       "      <td>7</td>\n",
       "      <td>152</td>\n",
       "    </tr>\n",
       "    <tr>\n",
       "      <td>1562</td>\n",
       "      <td>1615</td>\n",
       "      <td>M</td>\n",
       "      <td>7</td>\n",
       "      <td>180</td>\n",
       "    </tr>\n",
       "  </tbody>\n",
       "</table>\n",
       "<p>100 rows × 4 columns</p>\n",
       "</div>"
      ],
      "text/plain": [
       "      Client Sex  Age  Tenure\n",
       "5        225   M   14     187\n",
       "8       1231   F    6     232\n",
       "18       316   F    1     211\n",
       "19       461   F   17      64\n",
       "31       729   M   17      85\n",
       "...      ...  ..  ...     ...\n",
       "1470    1044   F    2      70\n",
       "1502      80   M    9      81\n",
       "1505     300   F    5      87\n",
       "1554     648   F    7     152\n",
       "1562    1615   M    7     180\n",
       "\n",
       "[100 rows x 4 columns]"
      ]
     },
     "execution_count": 9,
     "metadata": {},
     "output_type": "execute_result"
    }
   ],
   "source": [
    "clients_df[clients_df['Age'] < 18]"
   ]
  },
  {
   "cell_type": "code",
   "execution_count": 10,
   "metadata": {},
   "outputs": [
    {
     "name": "stdout",
     "output_type": "stream",
     "text": [
      "Pretty printing has been turned OFF\n",
      "[5, 8, 18, 19, 31, 36, 37, 71, 72, 94, 98, 127, 160, 166, 178, 196, 219, 226, 235, 242, 259, 280, 291, 295, 304, 345, 357, 358, 375, 381, 390, 391, 392, 451, 464, 479, 484, 491, 498, 502, 505, 580, 598, 612, 615, 676, 689, 716, 724, 730, 741, 766, 770, 773, 807, 870, 921, 953, 961, 969, 990, 999, 1011, 1013, 1017, 1047, 1048, 1053, 1059, 1083, 1086, 1175, 1182, 1188, 1209, 1212, 1218, 1233, 1236, 1238, 1294, 1298, 1303, 1304, 1320, 1321, 1366, 1384, 1385, 1392, 1396, 1420, 1445, 1458, 1462, 1470, 1502, 1505, 1554, 1562] \n",
      "\n",
      "\n",
      " Clients with Age less than 18: 100\n"
     ]
    }
   ],
   "source": [
    "%pprint off\n",
    "under_age = list(clients_df.loc[clients_df['Age'] < 18].index)\n",
    "print(under_age,'\\n'*3,f'Clients with Age less than 18: {len(under_age)}')"
   ]
  },
  {
   "cell_type": "markdown",
   "metadata": {},
   "source": [
    "We got 100 clients that are under 18 years old so we can give them a minimum age to make sense"
   ]
  },
  {
   "cell_type": "code",
   "execution_count": 11,
   "metadata": {},
   "outputs": [],
   "source": [
    "clients_df.loc[clients_df['Age'] < 18, ['Age']] = 18"
   ]
  },
  {
   "cell_type": "markdown",
   "metadata": {},
   "source": [
    "We can group the clients by their Sex and see the proportions"
   ]
  },
  {
   "cell_type": "code",
   "execution_count": 12,
   "metadata": {},
   "outputs": [],
   "source": [
    "sex_client = clients_df.groupby('Sex').count()"
   ]
  },
  {
   "cell_type": "code",
   "execution_count": 13,
   "metadata": {},
   "outputs": [
    {
     "data": {
      "image/png": "[encoded data removed]",
      "text/plain": [
       "<Figure size 432x288 with 1 Axes>"
      ]
     },
     "metadata": {},
     "output_type": "display_data"
    }
   ],
   "source": [
    "plt.pie(sex_client['Client'],labels=sex_client.index,shadow=True,explode=(0, 0.15),startangle=90,autopct='%1.1f%%')\n",
    "plt.axis('equal')\n",
    "\n",
    "# View the plot\n",
    "plt.tight_layout()\n",
    "plt.show()"
   ]
  },
  {
   "cell_type": "markdown",
   "metadata": {},
   "source": [
    "Also we can group the data by Sex and ranges of Ages "
   ]
  },
  {
   "cell_type": "code",
   "execution_count": 14,
   "metadata": {},
   "outputs": [
    {
     "data": {
      "text/plain": [
       "Sex  Age     \n",
       "F    (17, 30]    228\n",
       "     (30, 45]    220\n",
       "     (45, 60]    149\n",
       "     (60, 99]    159\n",
       "M    (17, 30]    231\n",
       "     (30, 45]    266\n",
       "     (45, 60]    181\n",
       "     (60, 99]    181\n",
       "Name: Client, dtype: int64"
      ]
     },
     "execution_count": 14,
     "metadata": {},
     "output_type": "execute_result"
    }
   ],
   "source": [
    "bins = pd.IntervalIndex.from_tuples([(17,30),(30,45),(45,60),(60,99)])\n",
    "ages_df = clients_df.groupby(['Sex',pd.cut(clients_df.Age,bins)]).count()\n",
    "ages_count = ages_df['Client']\n",
    "ages_count"
   ]
  },
  {
   "cell_type": "markdown",
   "metadata": {},
   "source": [
    "And plot the groups"
   ]
  },
  {
   "cell_type": "code",
   "execution_count": 15,
   "metadata": {},
   "outputs": [
    {
     "data": {
      "image/png": "[encoded data removed]",
      "text/plain": [
       "<Figure size 1080x1080 with 2 Axes>"
      ]
     },
     "metadata": {},
     "output_type": "display_data"
    }
   ],
   "source": [
    "ages_count.unstack(level=0).plot(kind='pie', subplots=True ,rot =0, autopct = '%1.1f%%', figsize=(15,15), title = 'Tenure By Age')\n",
    "plt.show()"
   ]
  },
  {
   "cell_type": "markdown",
   "metadata": {},
   "source": [
    "As we can see the most range of age"
   ]
  },
  {
   "cell_type": "code",
   "execution_count": 16,
   "metadata": {},
   "outputs": [
    {
     "data": {
      "text/plain": [
       "Client           0\n",
       "Count_CA         0\n",
       "Count_SA      1189\n",
       "Count_MF      1309\n",
       "Count_OVD     1196\n",
       "Count_CC      1445\n",
       "Count_CL      1480\n",
       "ActBal_CA        0\n",
       "ActBal_SA     1189\n",
       "ActBal_MF     1309\n",
       "ActBal_OVD    1196\n",
       "ActBal_CC     1445\n",
       "ActBal_CL     1480\n",
       "dtype: int64"
      ]
     },
     "execution_count": 16,
     "metadata": {},
     "output_type": "execute_result"
    }
   ],
   "source": [
    "clients_prod = libro.parse('Products_ActBalance')\n",
    "clients_prod.isnull().sum()"
   ]
  },
  {
   "cell_type": "code",
   "execution_count": 17,
   "metadata": {},
   "outputs": [],
   "source": [
    "clients_prod.fillna(0, inplace = True)"
   ]
  },
  {
   "cell_type": "code",
   "execution_count": 18,
   "metadata": {},
   "outputs": [
    {
     "data": {
      "text/html": [
       "<div>\n",
       "<style scoped>\n",
       "    .dataframe tbody tr th:only-of-type {\n",
       "        vertical-align: middle;\n",
       "    }\n",
       "\n",
       "    .dataframe tbody tr th {\n",
       "        vertical-align: top;\n",
       "    }\n",
       "\n",
       "    .dataframe thead th {\n",
       "        text-align: right;\n",
       "    }\n",
       "</style>\n",
       "<table border=\"1\" class=\"dataframe\">\n",
       "  <thead>\n",
       "    <tr style=\"text-align: right;\">\n",
       "      <th></th>\n",
       "      <th>Client</th>\n",
       "      <th>Count_CA</th>\n",
       "      <th>Count_SA</th>\n",
       "      <th>Count_MF</th>\n",
       "      <th>Count_OVD</th>\n",
       "      <th>Count_CC</th>\n",
       "      <th>Count_CL</th>\n",
       "      <th>ActBal_CA</th>\n",
       "      <th>ActBal_SA</th>\n",
       "      <th>ActBal_MF</th>\n",
       "      <th>ActBal_OVD</th>\n",
       "      <th>ActBal_CC</th>\n",
       "      <th>ActBal_CL</th>\n",
       "    </tr>\n",
       "  </thead>\n",
       "  <tbody>\n",
       "    <tr>\n",
       "      <td>0</td>\n",
       "      <td>1</td>\n",
       "      <td>1</td>\n",
       "      <td>0.0</td>\n",
       "      <td>0.0</td>\n",
       "      <td>1.0</td>\n",
       "      <td>0.0</td>\n",
       "      <td>0.0</td>\n",
       "      <td>1333.802857</td>\n",
       "      <td>0.000000</td>\n",
       "      <td>0.000000</td>\n",
       "      <td>0.0</td>\n",
       "      <td>0.000000</td>\n",
       "      <td>0.0</td>\n",
       "    </tr>\n",
       "    <tr>\n",
       "      <td>1</td>\n",
       "      <td>2</td>\n",
       "      <td>1</td>\n",
       "      <td>1.0</td>\n",
       "      <td>0.0</td>\n",
       "      <td>0.0</td>\n",
       "      <td>0.0</td>\n",
       "      <td>0.0</td>\n",
       "      <td>110.768571</td>\n",
       "      <td>13326.190357</td>\n",
       "      <td>0.000000</td>\n",
       "      <td>0.0</td>\n",
       "      <td>0.000000</td>\n",
       "      <td>0.0</td>\n",
       "    </tr>\n",
       "    <tr>\n",
       "      <td>2</td>\n",
       "      <td>3</td>\n",
       "      <td>1</td>\n",
       "      <td>0.0</td>\n",
       "      <td>1.0</td>\n",
       "      <td>0.0</td>\n",
       "      <td>0.0</td>\n",
       "      <td>0.0</td>\n",
       "      <td>482.654643</td>\n",
       "      <td>0.000000</td>\n",
       "      <td>107.251786</td>\n",
       "      <td>0.0</td>\n",
       "      <td>0.000000</td>\n",
       "      <td>0.0</td>\n",
       "    </tr>\n",
       "    <tr>\n",
       "      <td>3</td>\n",
       "      <td>4</td>\n",
       "      <td>1</td>\n",
       "      <td>1.0</td>\n",
       "      <td>0.0</td>\n",
       "      <td>0.0</td>\n",
       "      <td>1.0</td>\n",
       "      <td>0.0</td>\n",
       "      <td>1599.840714</td>\n",
       "      <td>76.437143</td>\n",
       "      <td>0.000000</td>\n",
       "      <td>0.0</td>\n",
       "      <td>1110.381786</td>\n",
       "      <td>0.0</td>\n",
       "    </tr>\n",
       "    <tr>\n",
       "      <td>4</td>\n",
       "      <td>5</td>\n",
       "      <td>1</td>\n",
       "      <td>1.0</td>\n",
       "      <td>0.0</td>\n",
       "      <td>0.0</td>\n",
       "      <td>0.0</td>\n",
       "      <td>0.0</td>\n",
       "      <td>5353.483929</td>\n",
       "      <td>8079.715714</td>\n",
       "      <td>0.000000</td>\n",
       "      <td>0.0</td>\n",
       "      <td>0.000000</td>\n",
       "      <td>0.0</td>\n",
       "    </tr>\n",
       "  </tbody>\n",
       "</table>\n",
       "</div>"
      ],
      "text/plain": [
       "   Client  Count_CA  Count_SA  Count_MF  Count_OVD  Count_CC  Count_CL  \\\n",
       "0       1         1       0.0       0.0        1.0       0.0       0.0   \n",
       "1       2         1       1.0       0.0        0.0       0.0       0.0   \n",
       "2       3         1       0.0       1.0        0.0       0.0       0.0   \n",
       "3       4         1       1.0       0.0        0.0       1.0       0.0   \n",
       "4       5         1       1.0       0.0        0.0       0.0       0.0   \n",
       "\n",
       "     ActBal_CA     ActBal_SA   ActBal_MF  ActBal_OVD    ActBal_CC  ActBal_CL  \n",
       "0  1333.802857      0.000000    0.000000         0.0     0.000000        0.0  \n",
       "1   110.768571  13326.190357    0.000000         0.0     0.000000        0.0  \n",
       "2   482.654643      0.000000  107.251786         0.0     0.000000        0.0  \n",
       "3  1599.840714     76.437143    0.000000         0.0  1110.381786        0.0  \n",
       "4  5353.483929   8079.715714    0.000000         0.0     0.000000        0.0  "
      ]
     },
     "execution_count": 18,
     "metadata": {},
     "output_type": "execute_result"
    }
   ],
   "source": [
    "clients_prod.head()"
   ]
  },
  {
   "cell_type": "code",
   "execution_count": 19,
   "metadata": {},
   "outputs": [],
   "source": [
    "clients_merged = clients_df.merge(clients_prod, on = 'Client', how = 'left')"
   ]
  },
  {
   "cell_type": "code",
   "execution_count": 20,
   "metadata": {},
   "outputs": [
    {
     "data": {
      "text/html": [
       "<div>\n",
       "<style scoped>\n",
       "    .dataframe tbody tr th:only-of-type {\n",
       "        vertical-align: middle;\n",
       "    }\n",
       "\n",
       "    .dataframe tbody tr th {\n",
       "        vertical-align: top;\n",
       "    }\n",
       "\n",
       "    .dataframe thead th {\n",
       "        text-align: right;\n",
       "    }\n",
       "</style>\n",
       "<table border=\"1\" class=\"dataframe\">\n",
       "  <thead>\n",
       "    <tr style=\"text-align: right;\">\n",
       "      <th></th>\n",
       "      <th>Client</th>\n",
       "      <th>Sex</th>\n",
       "      <th>Tenure</th>\n",
       "      <th>Count_CA</th>\n",
       "      <th>Count_SA</th>\n",
       "      <th>Count_MF</th>\n",
       "      <th>Count_OVD</th>\n",
       "      <th>Count_CC</th>\n",
       "      <th>Count_CL</th>\n",
       "      <th>ActBal_CA</th>\n",
       "      <th>ActBal_SA</th>\n",
       "      <th>ActBal_MF</th>\n",
       "      <th>ActBal_OVD</th>\n",
       "      <th>ActBal_CC</th>\n",
       "      <th>ActBal_CL</th>\n",
       "    </tr>\n",
       "    <tr>\n",
       "      <th>Age</th>\n",
       "      <th></th>\n",
       "      <th></th>\n",
       "      <th></th>\n",
       "      <th></th>\n",
       "      <th></th>\n",
       "      <th></th>\n",
       "      <th></th>\n",
       "      <th></th>\n",
       "      <th></th>\n",
       "      <th></th>\n",
       "      <th></th>\n",
       "      <th></th>\n",
       "      <th></th>\n",
       "      <th></th>\n",
       "      <th></th>\n",
       "    </tr>\n",
       "  </thead>\n",
       "  <tbody>\n",
       "    <tr>\n",
       "      <td>18</td>\n",
       "      <td>109</td>\n",
       "      <td>109</td>\n",
       "      <td>109</td>\n",
       "      <td>109</td>\n",
       "      <td>109</td>\n",
       "      <td>109</td>\n",
       "      <td>109</td>\n",
       "      <td>109</td>\n",
       "      <td>109</td>\n",
       "      <td>109</td>\n",
       "      <td>109</td>\n",
       "      <td>109</td>\n",
       "      <td>109</td>\n",
       "      <td>109</td>\n",
       "      <td>109</td>\n",
       "    </tr>\n",
       "    <tr>\n",
       "      <td>19</td>\n",
       "      <td>20</td>\n",
       "      <td>20</td>\n",
       "      <td>20</td>\n",
       "      <td>20</td>\n",
       "      <td>20</td>\n",
       "      <td>20</td>\n",
       "      <td>20</td>\n",
       "      <td>20</td>\n",
       "      <td>20</td>\n",
       "      <td>20</td>\n",
       "      <td>20</td>\n",
       "      <td>20</td>\n",
       "      <td>20</td>\n",
       "      <td>20</td>\n",
       "      <td>20</td>\n",
       "    </tr>\n",
       "    <tr>\n",
       "      <td>20</td>\n",
       "      <td>19</td>\n",
       "      <td>19</td>\n",
       "      <td>19</td>\n",
       "      <td>19</td>\n",
       "      <td>19</td>\n",
       "      <td>19</td>\n",
       "      <td>19</td>\n",
       "      <td>19</td>\n",
       "      <td>19</td>\n",
       "      <td>19</td>\n",
       "      <td>19</td>\n",
       "      <td>19</td>\n",
       "      <td>19</td>\n",
       "      <td>19</td>\n",
       "      <td>19</td>\n",
       "    </tr>\n",
       "    <tr>\n",
       "      <td>21</td>\n",
       "      <td>27</td>\n",
       "      <td>27</td>\n",
       "      <td>27</td>\n",
       "      <td>27</td>\n",
       "      <td>27</td>\n",
       "      <td>27</td>\n",
       "      <td>27</td>\n",
       "      <td>27</td>\n",
       "      <td>27</td>\n",
       "      <td>27</td>\n",
       "      <td>27</td>\n",
       "      <td>27</td>\n",
       "      <td>27</td>\n",
       "      <td>27</td>\n",
       "      <td>27</td>\n",
       "    </tr>\n",
       "    <tr>\n",
       "      <td>22</td>\n",
       "      <td>28</td>\n",
       "      <td>28</td>\n",
       "      <td>28</td>\n",
       "      <td>28</td>\n",
       "      <td>28</td>\n",
       "      <td>28</td>\n",
       "      <td>28</td>\n",
       "      <td>28</td>\n",
       "      <td>28</td>\n",
       "      <td>28</td>\n",
       "      <td>28</td>\n",
       "      <td>28</td>\n",
       "      <td>28</td>\n",
       "      <td>28</td>\n",
       "      <td>28</td>\n",
       "    </tr>\n",
       "    <tr>\n",
       "      <td>...</td>\n",
       "      <td>...</td>\n",
       "      <td>...</td>\n",
       "      <td>...</td>\n",
       "      <td>...</td>\n",
       "      <td>...</td>\n",
       "      <td>...</td>\n",
       "      <td>...</td>\n",
       "      <td>...</td>\n",
       "      <td>...</td>\n",
       "      <td>...</td>\n",
       "      <td>...</td>\n",
       "      <td>...</td>\n",
       "      <td>...</td>\n",
       "      <td>...</td>\n",
       "      <td>...</td>\n",
       "    </tr>\n",
       "    <tr>\n",
       "      <td>90</td>\n",
       "      <td>1</td>\n",
       "      <td>1</td>\n",
       "      <td>1</td>\n",
       "      <td>1</td>\n",
       "      <td>1</td>\n",
       "      <td>1</td>\n",
       "      <td>1</td>\n",
       "      <td>1</td>\n",
       "      <td>1</td>\n",
       "      <td>1</td>\n",
       "      <td>1</td>\n",
       "      <td>1</td>\n",
       "      <td>1</td>\n",
       "      <td>1</td>\n",
       "      <td>1</td>\n",
       "    </tr>\n",
       "    <tr>\n",
       "      <td>92</td>\n",
       "      <td>1</td>\n",
       "      <td>1</td>\n",
       "      <td>1</td>\n",
       "      <td>1</td>\n",
       "      <td>1</td>\n",
       "      <td>1</td>\n",
       "      <td>1</td>\n",
       "      <td>1</td>\n",
       "      <td>1</td>\n",
       "      <td>1</td>\n",
       "      <td>1</td>\n",
       "      <td>1</td>\n",
       "      <td>1</td>\n",
       "      <td>1</td>\n",
       "      <td>1</td>\n",
       "    </tr>\n",
       "    <tr>\n",
       "      <td>93</td>\n",
       "      <td>1</td>\n",
       "      <td>1</td>\n",
       "      <td>1</td>\n",
       "      <td>1</td>\n",
       "      <td>1</td>\n",
       "      <td>1</td>\n",
       "      <td>1</td>\n",
       "      <td>1</td>\n",
       "      <td>1</td>\n",
       "      <td>1</td>\n",
       "      <td>1</td>\n",
       "      <td>1</td>\n",
       "      <td>1</td>\n",
       "      <td>1</td>\n",
       "      <td>1</td>\n",
       "    </tr>\n",
       "    <tr>\n",
       "      <td>94</td>\n",
       "      <td>1</td>\n",
       "      <td>1</td>\n",
       "      <td>1</td>\n",
       "      <td>1</td>\n",
       "      <td>1</td>\n",
       "      <td>1</td>\n",
       "      <td>1</td>\n",
       "      <td>1</td>\n",
       "      <td>1</td>\n",
       "      <td>1</td>\n",
       "      <td>1</td>\n",
       "      <td>1</td>\n",
       "      <td>1</td>\n",
       "      <td>1</td>\n",
       "      <td>1</td>\n",
       "    </tr>\n",
       "    <tr>\n",
       "      <td>97</td>\n",
       "      <td>1</td>\n",
       "      <td>1</td>\n",
       "      <td>1</td>\n",
       "      <td>1</td>\n",
       "      <td>1</td>\n",
       "      <td>1</td>\n",
       "      <td>1</td>\n",
       "      <td>1</td>\n",
       "      <td>1</td>\n",
       "      <td>1</td>\n",
       "      <td>1</td>\n",
       "      <td>1</td>\n",
       "      <td>1</td>\n",
       "      <td>1</td>\n",
       "      <td>1</td>\n",
       "    </tr>\n",
       "  </tbody>\n",
       "</table>\n",
       "<p>76 rows × 15 columns</p>\n",
       "</div>"
      ],
      "text/plain": [
       "     Client  Sex  Tenure  Count_CA  Count_SA  Count_MF  Count_OVD  Count_CC  \\\n",
       "Age                                                                           \n",
       "18      109  109     109       109       109       109        109       109   \n",
       "19       20   20      20        20        20        20         20        20   \n",
       "20       19   19      19        19        19        19         19        19   \n",
       "21       27   27      27        27        27        27         27        27   \n",
       "22       28   28      28        28        28        28         28        28   \n",
       "..      ...  ...     ...       ...       ...       ...        ...       ...   \n",
       "90        1    1       1         1         1         1          1         1   \n",
       "92        1    1       1         1         1         1          1         1   \n",
       "93        1    1       1         1         1         1          1         1   \n",
       "94        1    1       1         1         1         1          1         1   \n",
       "97        1    1       1         1         1         1          1         1   \n",
       "\n",
       "     Count_CL  ActBal_CA  ActBal_SA  ActBal_MF  ActBal_OVD  ActBal_CC  \\\n",
       "Age                                                                     \n",
       "18        109        109        109        109         109        109   \n",
       "19         20         20         20         20          20         20   \n",
       "20         19         19         19         19          19         19   \n",
       "21         27         27         27         27          27         27   \n",
       "22         28         28         28         28          28         28   \n",
       "..        ...        ...        ...        ...         ...        ...   \n",
       "90          1          1          1          1           1          1   \n",
       "92          1          1          1          1           1          1   \n",
       "93          1          1          1          1           1          1   \n",
       "94          1          1          1          1           1          1   \n",
       "97          1          1          1          1           1          1   \n",
       "\n",
       "     ActBal_CL  \n",
       "Age             \n",
       "18         109  \n",
       "19          20  \n",
       "20          19  \n",
       "21          27  \n",
       "22          28  \n",
       "..         ...  \n",
       "90           1  \n",
       "92           1  \n",
       "93           1  \n",
       "94           1  \n",
       "97           1  \n",
       "\n",
       "[76 rows x 15 columns]"
      ]
     },
     "execution_count": 20,
     "metadata": {},
     "output_type": "execute_result"
    }
   ],
   "source": [
    "clients_merged.groupby('Age').count()"
   ]
  },
  {
   "cell_type": "code",
   "execution_count": 21,
   "metadata": {},
   "outputs": [],
   "source": [
    "bins = pd.IntervalIndex.from_tuples([(17,30),(30,45),(45,60),(60,99)])\n",
    "clients_count_Age=clients_merged.groupby(['Count_CA',pd.cut(clients_merged.Age,bins)]).count()"
   ]
  },
  {
   "cell_type": "code",
   "execution_count": 23,
   "metadata": {},
   "outputs": [],
   "source": [
    "clients_count_Age = clients_count_Age['Client']"
   ]
  },
  {
   "cell_type": "code",
   "execution_count": 24,
   "metadata": {},
   "outputs": [
    {
     "data": {
      "text/plain": [
       "1615.0"
      ]
     },
     "execution_count": 24,
     "metadata": {},
     "output_type": "execute_result"
    }
   ],
   "source": [
    "clients_count_Age.sum()"
   ]
  },
  {
   "cell_type": "code",
   "execution_count": 25,
   "metadata": {},
   "outputs": [
    {
     "data": {
      "text/plain": [
       "1742"
      ]
     },
     "execution_count": 25,
     "metadata": {},
     "output_type": "execute_result"
    }
   ],
   "source": [
    "clients_merged.Count_CA.sum()"
   ]
  },
  {
   "cell_type": "code",
   "execution_count": 26,
   "metadata": {},
   "outputs": [
    {
     "data": {
      "text/plain": [
       "Count_CA  Age     \n",
       "1         (17, 30]    437.0\n",
       "          (30, 45]    455.0\n",
       "          (45, 60]    312.0\n",
       "          (60, 99]    311.0\n",
       "2         (17, 30]     19.0\n",
       "          (30, 45]     25.0\n",
       "          (45, 60]     11.0\n",
       "          (60, 99]     22.0\n",
       "3         (17, 30]      3.0\n",
       "          (30, 45]      5.0\n",
       "          (45, 60]      5.0\n",
       "          (60, 99]      6.0\n",
       "4         (17, 30]      NaN\n",
       "          (30, 45]      1.0\n",
       "          (45, 60]      2.0\n",
       "          (60, 99]      1.0\n",
       "Name: Client, dtype: float64"
      ]
     },
     "execution_count": 26,
     "metadata": {},
     "output_type": "execute_result"
    }
   ],
   "source": [
    "clients_count_Age"
   ]
  },
  {
   "cell_type": "code",
   "execution_count": 55,
   "metadata": {},
   "outputs": [
    {
     "data": {
      "image/png": "[encoded data removed]",
      "text/plain": [
       "<Figure size 1080x1080 with 4 Axes>"
      ]
     },
     "metadata": {},
     "output_type": "display_data"
    }
   ],
   "source": [
    "clients_count_Age.unstack(level=0).plot(kind='pie', subplots=True ,rot =0, autopct = '%1.1f%%', figsize=(15,15), title = 'Accounts Active By Age')\n",
    "plt.show()"
   ]
  },
  {
   "cell_type": "code",
   "execution_count": 191,
   "metadata": {},
   "outputs": [],
   "source": [
    "clients_CA_Sex = clients_merged.Count_CA.groupby(clients_merged.Sex).sum()"
   ]
  },
  {
   "cell_type": "code",
   "execution_count": 193,
   "metadata": {},
   "outputs": [
    {
     "data": {
      "text/plain": [
       "<matplotlib.axes._subplots.AxesSubplot object at 0x000002090D890988>"
      ]
     },
     "execution_count": 193,
     "metadata": {},
     "output_type": "execute_result"
    },
    {
     "data": {
      "image/png": "[encoded data removed]",
      "text/plain": [
       "<Figure size 432x288 with 1 Axes>"
      ]
     },
     "metadata": {
      "needs_background": "light"
     },
     "output_type": "display_data"
    }
   ],
   "source": [
    "clients_CA_Sex.plot(kind = 'bar')"
   ]
  },
  {
   "cell_type": "code",
   "execution_count": 35,
   "metadata": {},
   "outputs": [
    {
     "data": {
      "text/html": [
       "<div>\n",
       "<style scoped>\n",
       "    .dataframe tbody tr th:only-of-type {\n",
       "        vertical-align: middle;\n",
       "    }\n",
       "\n",
       "    .dataframe tbody tr th {\n",
       "        vertical-align: top;\n",
       "    }\n",
       "\n",
       "    .dataframe thead th {\n",
       "        text-align: right;\n",
       "    }\n",
       "</style>\n",
       "<table border=\"1\" class=\"dataframe\">\n",
       "  <thead>\n",
       "    <tr style=\"text-align: right;\">\n",
       "      <th></th>\n",
       "      <th>Sheet</th>\n",
       "      <th>Variable</th>\n",
       "      <th>Description</th>\n",
       "    </tr>\n",
       "  </thead>\n",
       "  <tbody>\n",
       "    <tr>\n",
       "      <td>0</td>\n",
       "      <td>Soc_Dem</td>\n",
       "      <td>Client</td>\n",
       "      <td>client ID</td>\n",
       "    </tr>\n",
       "    <tr>\n",
       "      <td>1</td>\n",
       "      <td>NaN</td>\n",
       "      <td>Sex</td>\n",
       "      <td>gender</td>\n",
       "    </tr>\n",
       "    <tr>\n",
       "      <td>2</td>\n",
       "      <td>NaN</td>\n",
       "      <td>Age</td>\n",
       "      <td>age [years]</td>\n",
       "    </tr>\n",
       "    <tr>\n",
       "      <td>3</td>\n",
       "      <td>NaN</td>\n",
       "      <td>Tenure</td>\n",
       "      <td>tenure with the bank [months]</td>\n",
       "    </tr>\n",
       "    <tr>\n",
       "      <td>4</td>\n",
       "      <td>Products_ActBalance</td>\n",
       "      <td>Client</td>\n",
       "      <td>client ID</td>\n",
       "    </tr>\n",
       "    <tr>\n",
       "      <td>5</td>\n",
       "      <td>NaN</td>\n",
       "      <td>Count_CA</td>\n",
       "      <td>number of live current accounts</td>\n",
       "    </tr>\n",
       "    <tr>\n",
       "      <td>6</td>\n",
       "      <td>NaN</td>\n",
       "      <td>Count_SA</td>\n",
       "      <td>number of live saving accounts</td>\n",
       "    </tr>\n",
       "    <tr>\n",
       "      <td>7</td>\n",
       "      <td>NaN</td>\n",
       "      <td>Count_MF</td>\n",
       "      <td>number of live mutual funds</td>\n",
       "    </tr>\n",
       "    <tr>\n",
       "      <td>8</td>\n",
       "      <td>NaN</td>\n",
       "      <td>Count_OVD</td>\n",
       "      <td>number of live overdrafts</td>\n",
       "    </tr>\n",
       "    <tr>\n",
       "      <td>9</td>\n",
       "      <td>NaN</td>\n",
       "      <td>Count_CC</td>\n",
       "      <td>number of live credit cards</td>\n",
       "    </tr>\n",
       "    <tr>\n",
       "      <td>10</td>\n",
       "      <td>NaN</td>\n",
       "      <td>Count_CL</td>\n",
       "      <td>number of live consumer loans</td>\n",
       "    </tr>\n",
       "    <tr>\n",
       "      <td>11</td>\n",
       "      <td>NaN</td>\n",
       "      <td>ActBal_CA</td>\n",
       "      <td>actual current accounts balance [EUR]</td>\n",
       "    </tr>\n",
       "    <tr>\n",
       "      <td>12</td>\n",
       "      <td>NaN</td>\n",
       "      <td>ActBal_SA</td>\n",
       "      <td>actual saving accounts balance [EUR]</td>\n",
       "    </tr>\n",
       "    <tr>\n",
       "      <td>13</td>\n",
       "      <td>NaN</td>\n",
       "      <td>ActBal_MF</td>\n",
       "      <td>actual mutual funds balance [EUR]</td>\n",
       "    </tr>\n",
       "    <tr>\n",
       "      <td>14</td>\n",
       "      <td>NaN</td>\n",
       "      <td>ActBal_OVD</td>\n",
       "      <td>actual overdrafts balance (liability) [EUR]</td>\n",
       "    </tr>\n",
       "    <tr>\n",
       "      <td>15</td>\n",
       "      <td>NaN</td>\n",
       "      <td>ActBal_CC</td>\n",
       "      <td>actual credit cards balance (liability) [EUR]</td>\n",
       "    </tr>\n",
       "    <tr>\n",
       "      <td>16</td>\n",
       "      <td>NaN</td>\n",
       "      <td>ActBal_CL</td>\n",
       "      <td>actual consumer loans balance (liability) [EUR]</td>\n",
       "    </tr>\n",
       "    <tr>\n",
       "      <td>17</td>\n",
       "      <td>Inflow_Outflow</td>\n",
       "      <td>Client</td>\n",
       "      <td>client ID</td>\n",
       "    </tr>\n",
       "    <tr>\n",
       "      <td>18</td>\n",
       "      <td>NaN</td>\n",
       "      <td>VolumeCred</td>\n",
       "      <td>monthly credit turnover [EUR]</td>\n",
       "    </tr>\n",
       "    <tr>\n",
       "      <td>19</td>\n",
       "      <td>NaN</td>\n",
       "      <td>VolumeCred_CA</td>\n",
       "      <td>monthly credit turnover on current accounts [EUR]</td>\n",
       "    </tr>\n",
       "    <tr>\n",
       "      <td>20</td>\n",
       "      <td>NaN</td>\n",
       "      <td>TransactionsCred</td>\n",
       "      <td>number of all credit transactions</td>\n",
       "    </tr>\n",
       "    <tr>\n",
       "      <td>21</td>\n",
       "      <td>NaN</td>\n",
       "      <td>TransactionsCred_CA</td>\n",
       "      <td>number of credit transactions on current accounts</td>\n",
       "    </tr>\n",
       "    <tr>\n",
       "      <td>22</td>\n",
       "      <td>NaN</td>\n",
       "      <td>VolumeDeb</td>\n",
       "      <td>monthly debit turnover [EUR]</td>\n",
       "    </tr>\n",
       "    <tr>\n",
       "      <td>23</td>\n",
       "      <td>NaN</td>\n",
       "      <td>VolumeDeb_CA</td>\n",
       "      <td>monthly debit turnover on current accounts [EUR]</td>\n",
       "    </tr>\n",
       "    <tr>\n",
       "      <td>24</td>\n",
       "      <td>NaN</td>\n",
       "      <td>VolumeDebCash_Card</td>\n",
       "      <td>monthly volume of debit cash transactions via ...</td>\n",
       "    </tr>\n",
       "    <tr>\n",
       "      <td>25</td>\n",
       "      <td>NaN</td>\n",
       "      <td>VolumeDebCashless_Card</td>\n",
       "      <td>monthly volume of debit cashless transactions ...</td>\n",
       "    </tr>\n",
       "    <tr>\n",
       "      <td>26</td>\n",
       "      <td>NaN</td>\n",
       "      <td>VolumeDeb_PaymentOrder</td>\n",
       "      <td>monthly volume of debit transactions via payme...</td>\n",
       "    </tr>\n",
       "    <tr>\n",
       "      <td>27</td>\n",
       "      <td>NaN</td>\n",
       "      <td>TransactionsDeb</td>\n",
       "      <td>number of all debit transactions</td>\n",
       "    </tr>\n",
       "    <tr>\n",
       "      <td>28</td>\n",
       "      <td>NaN</td>\n",
       "      <td>TransactionsDeb_CA</td>\n",
       "      <td>number of debit transactions on current accounts</td>\n",
       "    </tr>\n",
       "    <tr>\n",
       "      <td>29</td>\n",
       "      <td>NaN</td>\n",
       "      <td>TransactionsDebCash_Card</td>\n",
       "      <td>monthly number of debit cash transactions via ...</td>\n",
       "    </tr>\n",
       "    <tr>\n",
       "      <td>30</td>\n",
       "      <td>NaN</td>\n",
       "      <td>TransactionsDebCashless_Card</td>\n",
       "      <td>monthly number of debit cashless transactions ...</td>\n",
       "    </tr>\n",
       "    <tr>\n",
       "      <td>31</td>\n",
       "      <td>NaN</td>\n",
       "      <td>TransactionsDeb_PaymentOrder</td>\n",
       "      <td>monthly number of debit transactions via payme...</td>\n",
       "    </tr>\n",
       "    <tr>\n",
       "      <td>32</td>\n",
       "      <td>Sales_Revenues</td>\n",
       "      <td>Client</td>\n",
       "      <td>client ID</td>\n",
       "    </tr>\n",
       "    <tr>\n",
       "      <td>33</td>\n",
       "      <td>NaN</td>\n",
       "      <td>Sale_MF</td>\n",
       "      <td>target variable for sale of mutual fund (avail...</td>\n",
       "    </tr>\n",
       "    <tr>\n",
       "      <td>34</td>\n",
       "      <td>NaN</td>\n",
       "      <td>Sale_CC</td>\n",
       "      <td>target variable for sale of credit card (avail...</td>\n",
       "    </tr>\n",
       "    <tr>\n",
       "      <td>35</td>\n",
       "      <td>NaN</td>\n",
       "      <td>Sale_CL</td>\n",
       "      <td>target variable for sale of consumer loan (ava...</td>\n",
       "    </tr>\n",
       "    <tr>\n",
       "      <td>36</td>\n",
       "      <td>NaN</td>\n",
       "      <td>Revenue_MF</td>\n",
       "      <td>target variable for revenue from mutual fund (...</td>\n",
       "    </tr>\n",
       "    <tr>\n",
       "      <td>37</td>\n",
       "      <td>NaN</td>\n",
       "      <td>Revenue_CC</td>\n",
       "      <td>target variable for revenue from credit card (...</td>\n",
       "    </tr>\n",
       "    <tr>\n",
       "      <td>38</td>\n",
       "      <td>NaN</td>\n",
       "      <td>Revenue_CL</td>\n",
       "      <td>target variable for revenue from consumer loan...</td>\n",
       "    </tr>\n",
       "  </tbody>\n",
       "</table>\n",
       "</div>"
      ],
      "text/plain": [
       "                  Sheet                      Variable  \\\n",
       "0               Soc_Dem                        Client   \n",
       "1                   NaN                           Sex   \n",
       "2                   NaN                           Age   \n",
       "3                   NaN                        Tenure   \n",
       "4   Products_ActBalance                        Client   \n",
       "5                   NaN                      Count_CA   \n",
       "6                   NaN                      Count_SA   \n",
       "7                   NaN                      Count_MF   \n",
       "8                   NaN                     Count_OVD   \n",
       "9                   NaN                      Count_CC   \n",
       "10                  NaN                      Count_CL   \n",
       "11                  NaN                     ActBal_CA   \n",
       "12                  NaN                     ActBal_SA   \n",
       "13                  NaN                     ActBal_MF   \n",
       "14                  NaN                    ActBal_OVD   \n",
       "15                  NaN                     ActBal_CC   \n",
       "16                  NaN                     ActBal_CL   \n",
       "17       Inflow_Outflow                        Client   \n",
       "18                  NaN                    VolumeCred   \n",
       "19                  NaN                 VolumeCred_CA   \n",
       "20                  NaN              TransactionsCred   \n",
       "21                  NaN           TransactionsCred_CA   \n",
       "22                  NaN                     VolumeDeb   \n",
       "23                  NaN                  VolumeDeb_CA   \n",
       "24                  NaN            VolumeDebCash_Card   \n",
       "25                  NaN        VolumeDebCashless_Card   \n",
       "26                  NaN        VolumeDeb_PaymentOrder   \n",
       "27                  NaN               TransactionsDeb   \n",
       "28                  NaN            TransactionsDeb_CA   \n",
       "29                  NaN      TransactionsDebCash_Card   \n",
       "30                  NaN  TransactionsDebCashless_Card   \n",
       "31                  NaN  TransactionsDeb_PaymentOrder   \n",
       "32       Sales_Revenues                        Client   \n",
       "33                  NaN                       Sale_MF   \n",
       "34                  NaN                       Sale_CC   \n",
       "35                  NaN                       Sale_CL   \n",
       "36                  NaN                    Revenue_MF   \n",
       "37                  NaN                    Revenue_CC   \n",
       "38                  NaN                    Revenue_CL   \n",
       "\n",
       "                                          Description  \n",
       "0                                           client ID  \n",
       "1                                              gender  \n",
       "2                                         age [years]  \n",
       "3                       tenure with the bank [months]  \n",
       "4                                           client ID  \n",
       "5                     number of live current accounts  \n",
       "6                      number of live saving accounts  \n",
       "7                         number of live mutual funds  \n",
       "8                           number of live overdrafts  \n",
       "9                         number of live credit cards  \n",
       "10                      number of live consumer loans  \n",
       "11              actual current accounts balance [EUR]  \n",
       "12               actual saving accounts balance [EUR]  \n",
       "13                  actual mutual funds balance [EUR]  \n",
       "14        actual overdrafts balance (liability) [EUR]  \n",
       "15      actual credit cards balance (liability) [EUR]  \n",
       "16    actual consumer loans balance (liability) [EUR]  \n",
       "17                                          client ID  \n",
       "18                      monthly credit turnover [EUR]  \n",
       "19  monthly credit turnover on current accounts [EUR]  \n",
       "20                  number of all credit transactions  \n",
       "21  number of credit transactions on current accounts  \n",
       "22                       monthly debit turnover [EUR]  \n",
       "23   monthly debit turnover on current accounts [EUR]  \n",
       "24  monthly volume of debit cash transactions via ...  \n",
       "25  monthly volume of debit cashless transactions ...  \n",
       "26  monthly volume of debit transactions via payme...  \n",
       "27                   number of all debit transactions  \n",
       "28   number of debit transactions on current accounts  \n",
       "29  monthly number of debit cash transactions via ...  \n",
       "30  monthly number of debit cashless transactions ...  \n",
       "31  monthly number of debit transactions via payme...  \n",
       "32                                          client ID  \n",
       "33  target variable for sale of mutual fund (avail...  \n",
       "34  target variable for sale of credit card (avail...  \n",
       "35  target variable for sale of consumer loan (ava...  \n",
       "36  target variable for revenue from mutual fund (...  \n",
       "37  target variable for revenue from credit card (...  \n",
       "38  target variable for revenue from consumer loan...  "
      ]
     },
     "execution_count": 35,
     "metadata": {},
     "output_type": "execute_result"
    }
   ],
   "source": [
    "clients_desc"
   ]
  },
  {
   "cell_type": "code",
   "execution_count": 51,
   "metadata": {},
   "outputs": [
    {
     "data": {
      "image/png": "[encoded data removed]",
      "text/plain": [
       "<Figure size 432x288 with 1 Axes>"
      ]
     },
     "metadata": {},
     "output_type": "display_data"
    }
   ],
   "source": [
    "labels = ['Actual Balance Current Accounts','Actual Balance Saving Accounts','Actual Balance Mutual Funds']\n",
    "plt.title('Actual Balance by type of accounts')\n",
    "plt.pie(clients_merged[['ActBal_CA','ActBal_SA','ActBal_MF']].sum(), labels = labels,autopct='%1.1f%%',explode = [0,0.15,0])\n",
    "plt.show()"
   ]
  },
  {
   "cell_type": "code",
   "execution_count": null,
   "metadata": {},
   "outputs": [],
   "source": [
    "clientes"
   ]
  }
 ],
 "metadata": {
  "kernelspec": {
   "display_name": "Python 3",
   "language": "python",
   "name": "python3"
  },
  "language_info": {
   "codemirror_mode": {
    "name": "ipython",
    "version": 3
   },
   "file_extension": ".py",
   "mimetype": "text/x-python",
   "name": "python",
   "nbconvert_exporter": "python",
   "pygments_lexer": "ipython3",
   "version": "3.7.4"
  }
 },
 "nbformat": 4,
 "nbformat_minor": 2
}
