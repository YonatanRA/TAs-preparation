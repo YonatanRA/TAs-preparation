{
 "cells": [
  {
   "cell_type": "markdown",
   "metadata": {},
   "source": [
    "## Challenge 4\n",
    "\n",
    "Now, use Pandas to read the search results data in your MySQL tables. Create a DataFrame that contains all the search results, then generate a data visualization plot (or several) from the DataFrame.\n",
    "\n",
    "It doesn't matter what data visualization plot you generate. This challenge means to let you showcase your familarity with the Pandas library and data visualization. You can generate a simple bar plot or a word cloud or anything else you would like, but be sure that the plots provide some meaningful information or insight about the data.\n",
    "\n",
    "Write the Python code in the cell below:"
   ]
  },
  {
   "cell_type": "code",
   "execution_count": null,
   "metadata": {},
   "outputs": [],
   "source": []
  }
 ],
 "metadata": {
  "kernelspec": {
   "display_name": "Python 3",
   "language": "python",
   "name": "python3"
  },
  "language_info": {
   "codemirror_mode": {
    "name": "ipython",
    "version": 3
   },
   "file_extension": ".py",
   "mimetype": "text/x-python",
   "name": "python",
   "nbconvert_exporter": "python",
   "pygments_lexer": "ipython3",
   "version": "3.7.2"
  }
 },
 "nbformat": 4,
 "nbformat_minor": 2
}
