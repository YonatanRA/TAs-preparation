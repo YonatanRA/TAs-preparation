{
 "cells": [
  {
   "cell_type": "markdown",
   "metadata": {},
   "source": [
    "## Challenge 3\n",
    "\n",
    "### Preparation\n",
    "\n",
    "1. Install MySQL and MySQL connector for Python if your dev machine doesn't have them.\n",
    "2. Start MySQL server on your computer. \n",
    "3. Create a new empty database. \n",
    "4. Create a new table. Here is some **example** code, similar to that which you might want to use:\n",
    "    ```sql\n",
    "    CREATE TABLE `search_results` (\n",
    "      `ranking` tinyint NOT NULL,\n",
    "      `rating` decimal(5,2) NOT NULL,\n",
    "      `reviews` text NOT NULL,\n",
    "      `cost` int NOT NULL,\n",
    "      `summary` text NOT NULL\n",
    "    ) ENGINE=InnoDB DEFAULT CHARSET=utf8mb4 COLLATE=utf8mb4_general_ci;\n",
    "    ```\n",
    "\n",
    "\n",
    "### Challenge\n",
    "\n",
    "Leveraging from the code you wrote in Challenge 2, scrape information about the top 20 bootcamps each of the 5 ranking lists. Again, the lists are: \n",
    "\n",
    "* Best Coding Bootcamps\n",
    "* Best Online Bootcamps\n",
    "* Best Data Science Bootcamps\n",
    "* Best Web Design Bootcamps\n",
    "* Best Cyber Security Bootcamps\n",
    "\n",
    "\n",
    "Your task is to store **up to 20 search results** for **each list** above into the database table named ``search_results``. Paste or import the code you wrote in challenge 2. Be sure to modify that code to include the titel of the bootcamp ranking list in the database! \n",
    "\n",
    "Complete your code in the cell below."
   ]
  },
  {
   "cell_type": "code",
   "execution_count": null,
   "metadata": {},
   "outputs": [],
   "source": [
    "\n",
    "SEARCH_URL_TEMPLATE = \"https://www.switchup.org/rankings/\"\n",
    "\n",
    "# Import or paste the code you wrote in Challenge 2\n",
    "# Save results in `search_results`"
   ]
  }
 ],
 "metadata": {
  "kernelspec": {
   "display_name": "Python 3",
   "language": "python",
   "name": "python3"
  },
  "language_info": {
   "codemirror_mode": {
    "name": "ipython",
    "version": 3
   },
   "file_extension": ".py",
   "mimetype": "text/x-python",
   "name": "python",
   "nbconvert_exporter": "python",
   "pygments_lexer": "ipython3",
   "version": "3.7.2"
  }
 },
 "nbformat": 4,
 "nbformat_minor": 2
}
