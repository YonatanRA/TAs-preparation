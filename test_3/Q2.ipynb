{
 "cells": [
  {
   "cell_type": "markdown",
   "metadata": {},
   "source": [
    "## Challenge 2\n",
    "\n",
    "In this challenge you will mine SwitchUp's site (a bootcamp review platform) to retrieve information on the most highly ranked bootcamps. There are five different divisions of bootcamps, each with their own ranking. These are: 'Best Coding Bootcamps', 'Best Online Bootcamps', 'Best Data Science Bootcamps', 'Best Web Design Bootcamps', and 'Best Cyber Security Bootcamps'.  \n",
    "\n",
    "Your task is to scrape information for the top 20 bootcamps on a ranking list. This information should include:  ranking, rating (out of 5), number of reviews, cost (of 4 dollar signs), and the short summary provided by SwitchUp. It is not necessary to include other information.\n",
    "\n",
    "The base url is the following:\n",
    "\n",
    "https://www.switchup.org/rankings/\n",
    "\n",
    "A ranking list can be requested by adding the list name to the end of the url, concatenated by dashes. For example, 'Best Coding Bootcamps' becomes 'best-coding-bootcamps', to be added to complete the url: \n",
    "\n",
    "https://www.switchup.org/rankings/best-coding-bootcamps\n"
   ]
  },
  {
   "cell_type": "markdown",
   "metadata": {},
   "source": [
    "Write a function (or several functions) that do the following:\n",
    "1. Assemble the search url with `SEARCH_URL_TEMPLATE` and `q`, the ranking list you have selected to scrape.\n",
    "2. Make request.\n",
    "3. Return HTML string.\n",
    "4. Parse and extract `ranking`, `rating`, `reviews`, `cost`, and `summary`. Create a dictionary with these fields.\n",
    "5. Return a list of dictionaries.\n",
    "\n",
    "*Hints*\n",
    "\n",
    "* Parse the HTML with libraries such as `BeautifulSoup`. The `parse_html` function should not return strings containing HTML tags.\n",
    "\n",
    "* Test your functions to make sure they work as expected. Your next challenge will depend on your code in this challenge.\n"
   ]
  },
  {
   "cell_type": "code",
   "execution_count": null,
   "metadata": {},
   "outputs": [],
   "source": [
    "# Your code here"
   ]
  }
 ],
 "metadata": {
  "kernelspec": {
   "display_name": "Python 3",
   "language": "python",
   "name": "python3"
  },
  "language_info": {
   "codemirror_mode": {
    "name": "ipython",
    "version": 3
   },
   "file_extension": ".py",
   "mimetype": "text/x-python",
   "name": "python",
   "nbconvert_exporter": "python",
   "pygments_lexer": "ipython3",
   "version": "3.7.2"
  }
 },
 "nbformat": 4,
 "nbformat_minor": 2
}
