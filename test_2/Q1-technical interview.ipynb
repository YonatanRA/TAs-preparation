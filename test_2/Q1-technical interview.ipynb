{
 "cells": [
  {
   "cell_type": "markdown",
   "metadata": {},
   "source": [
    "# TOP 500 supercomputer mining - Challenge 1\n",
    "\n",
    "# 1-A\n",
    "\n",
    "In this challenge you will mine top500 website to retrieve information on the most powerfull supercomputer of the last years.\n",
    "\n",
    "Your task is to scrape information for the top 500 supercomputers from 2014 to 2018. The information should include:\n",
    "\n",
    "* **Rank**\n",
    "\n",
    "* **Name**\n",
    "\n",
    "* **Year**\n",
    "\n",
    "* **Description**\n",
    "\n",
    "* **Company**\n",
    "\n",
    "* **Country**\n",
    "\n",
    "* **Cores**\n",
    "\n",
    "* **RMax (TFlops/s)**\n",
    "\n",
    "* **RPeak (TFlops/s)**\n",
    "\n",
    "* **Power (kW)**\n",
    "\n",
    "\n",
    "The root url is the following:\n",
    "https://www.top500.org/\n",
    "\n",
    "\n",
    "You need to navigate the web in order to extract all information for 2500 supercomputers. As an example, the first urls are:\n",
    "\n",
    "https://www.top500.org/lists/2014/11/?page=1\n",
    "\n",
    "\n",
    "https://www.top500.org/list/2014/11/?page=2\n",
    "\n",
    "\n",
    "\n",
    "Write code that do the following:\n",
    "1. Look for the url to scrape.\n",
    "2. Make request.\n",
    "3. Return HTML string.\n",
    "4. Parse and extract all features. Create a dictionary with these fields.\n",
    "5. Return a list of dictionaries.\n",
    "\n"
   ]
  },
  {
   "cell_type": "code",
   "execution_count": null,
   "metadata": {},
   "outputs": [],
   "source": [
    "# Your code here"
   ]
  },
  {
   "cell_type": "markdown",
   "metadata": {},
   "source": [
    "Your output before store in Sql should be something like:\n",
    "\n",
    "[{'ranking': 1,\n",
    "  'name': 'Tianhe-2A',\n",
    "  'year': 2014,\n",
    "  'description': 'National Super Computer Center in Guangzhou Cluster  Intel Xeon E5-2692 12C 2.200GHz  TH Express-2',\n",
    "  'company': 'NUDT',\n",
    "  'country': 'China',\n",
    "  'cores': 3120000,\n",
    "  'rmax': 33862.7,\n",
    "  'rpeak': 54902.4,\n",
    "  'power': 17808},\n",
    "  \n",
    " {'ranking': 2,\n",
    "  'name': 'Titan',\n",
    "  'year': 2014,\n",
    "  'description': 'DOE/SC/Oak Ridge National Laboratory XK7  Opteron 6274 16C 2.200GHz  Cray Gemini interconnect',\n",
    "  'company': 'Cray Inc.',\n",
    "  'country': 'United States',\n",
    "  'cores': 560640,\n",
    "  'rmax': 17590.0,\n",
    "  'rpeak': 27112.5,\n",
    "  'power': 8209}....]"
   ]
  },
  {
   "cell_type": "markdown",
   "metadata": {},
   "source": [
    "\n",
    "# 1-B\n",
    "\n",
    "\n",
    "When you complete this task, you need to save the information in a SQL database. For that:\n",
    "1. Install MySQL and MySQL connector for Python.\n",
    "2. Start MySQL server on your computer. \n",
    "3. Create a new empty database. \n",
    "4. Create a table for store the data. As an example, the table could be:\n",
    " ```sql\n",
    "   CREATE TABLE top_500(\n",
    "           ranking int,\n",
    "           name text, \n",
    "           year int,\n",
    "           description text,\n",
    "           company text,\n",
    "           country text, \n",
    "           cores int, \n",
    "           rmax float,\n",
    "           rpeak float,\n",
    "           power int);\n",
    "```"
   ]
  },
  {
   "cell_type": "code",
   "execution_count": null,
   "metadata": {},
   "outputs": [],
   "source": [
    "# Your code here"
   ]
  }
 ],
 "metadata": {
  "kernelspec": {
   "display_name": "Python 3",
   "language": "python",
   "name": "python3"
  },
  "language_info": {
   "codemirror_mode": {
    "name": "ipython",
    "version": 3
   },
   "file_extension": ".py",
   "mimetype": "text/x-python",
   "name": "python",
   "nbconvert_exporter": "python",
   "pygments_lexer": "ipython3",
   "version": "3.7.2"
  }
 },
 "nbformat": 4,
 "nbformat_minor": 2
}
